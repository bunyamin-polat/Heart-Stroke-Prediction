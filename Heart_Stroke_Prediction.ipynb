{
 "cells": [
  {
   "cell_type": "markdown",
   "id": "KI0TtW1tvm_r",
   "metadata": {
    "id": "KI0TtW1tvm_r"
   },
   "source": [
    "___\n",
    "\n",
    "<p style=\"text-align: center;\"><img src=\"https://docs.google.com/uc?id=1lY0Uj5R04yMY3-ZppPWxqCr5pvBLYPnV\" class=\"img-fluid\" alt=\"CLRSWY\"></p>\n",
    "\n",
    "___"
   ]
  },
  {
   "cell_type": "markdown",
   "id": "392a02f0-fdda-44ae-a0fc-97f3b03924a9",
   "metadata": {
    "id": "392a02f0-fdda-44ae-a0fc-97f3b03924a9"
   },
   "source": [
    "**Data vocabulary:**\n",
    "\n",
    "    1. #3 (age): age in years \n",
    "    2. #4 (sex): sex (1 = male; 0 = female) \n",
    "    3. #9 (cp): cp: chest pain type | Value 0: typical angina | Value 1: atypical angina | Value 2: non-anginal pain | Value 3: asymptomatic \n",
    "    4. #10 (trestbps): resting blood pressure (in mm Hg on admission to the hospital) \n",
    "    5. #12 (chol): serum cholestoral in mg/dl \n",
    "    6. #16 (fbs): (fasting blood sugar > 120 mg/dl) (1 = true; 0 = false) \n",
    "    7. #19 (restecg): resting electrocardiographic results | Value 0: normal | Value 1: having ST-T wave abnormality (T wave inversions and/or ST elevation or depression of > 0.05 mV) | Value 2: showing probable or definite left ventricular hypertrophy by Estes' criteria \n",
    "    8. #32 (thalach): maximum heart rate achieved \n",
    "    9. #38 (exang): exercise induced angina (1 = yes; 0 = no) \n",
    "    10. #40 (oldpeak): ST depression induced by exercise relative to rest \n",
    "    11. #41 (slope): the slope of the peak exercise ST segment | Value 1: upsloping | Value 2: flat | Value 3: downsloping \n",
    "    12. #44 (ca): number of major vessels (0-3) colored by flourosopy \n",
    "    13. #51 (thal): 3 = normal; 6 = fixed defect; 7 = reversable defect \n",
    "    14. #58 (num) (the predicted attribute): Value 0: < 50% diameter narrowing | Value 1: > 50% diameter narrowing "
   ]
  },
  {
   "cell_type": "markdown",
   "id": "2kuJJ54iwAlk",
   "metadata": {
    "id": "2kuJJ54iwAlk"
   },
   "source": [
    "# Import esential Libraries"
   ]
  },
  {
   "cell_type": "code",
   "execution_count": 1,
   "id": "d2f67c2a-c903-4b6c-bcda-2d69e2619192",
   "metadata": {
    "id": "d2f67c2a-c903-4b6c-bcda-2d69e2619192"
   },
   "outputs": [],
   "source": [
    "import numpy as np\n",
    "import pandas as pd\n",
    "import seaborn as sns\n",
    "import matplotlib.pyplot as plt\n",
    "%matplotlib inline\n",
    "plt.rcParams[\"figure.figsize\"] = (9,6)\n",
    "import warnings\n",
    "warnings.filterwarnings(\"ignore\")\n",
    "pd.set_option('display.float_format', lambda x: '%.3f' % x)\n",
    "pd.set_option('display.max_rows', None)\n",
    "\n",
    "from sklearn.metrics import accuracy_score, precision_score, recall_score, f1_score, confusion_matrix, classification_report, plot_confusion_matrix\n",
    "from sklearn.metrics import plot_roc_curve, plot_precision_recall_curve, roc_auc_score, auc, roc_curve, average_precision_score, precision_recall_curve"
   ]
  },
  {
   "cell_type": "markdown",
   "id": "6Qn_DjhPwKRF",
   "metadata": {
    "id": "6Qn_DjhPwKRF"
   },
   "source": [
    "# Ingest the data to notebook"
   ]
  },
  {
   "cell_type": "code",
   "execution_count": 2,
   "id": "542d4531-d67c-4a30-a836-dc31795ff0e8",
   "metadata": {
    "id": "542d4531-d67c-4a30-a836-dc31795ff0e8",
    "scrolled": false
   },
   "outputs": [
    {
     "data": {
      "text/html": [
       "<div>\n",
       "<style scoped>\n",
       "    .dataframe tbody tr th:only-of-type {\n",
       "        vertical-align: middle;\n",
       "    }\n",
       "\n",
       "    .dataframe tbody tr th {\n",
       "        vertical-align: top;\n",
       "    }\n",
       "\n",
       "    .dataframe thead th {\n",
       "        text-align: right;\n",
       "    }\n",
       "</style>\n",
       "<table border=\"1\" class=\"dataframe\">\n",
       "  <thead>\n",
       "    <tr style=\"text-align: right;\">\n",
       "      <th></th>\n",
       "      <th>age</th>\n",
       "      <th>sex</th>\n",
       "      <th>cp</th>\n",
       "      <th>trestbps</th>\n",
       "      <th>chol</th>\n",
       "      <th>fbs</th>\n",
       "      <th>restecg</th>\n",
       "      <th>thalach</th>\n",
       "      <th>exang</th>\n",
       "      <th>oldpeak</th>\n",
       "      <th>slope</th>\n",
       "      <th>ca</th>\n",
       "      <th>thal</th>\n",
       "      <th>target</th>\n",
       "    </tr>\n",
       "  </thead>\n",
       "  <tbody>\n",
       "    <tr>\n",
       "      <th>0</th>\n",
       "      <td>63</td>\n",
       "      <td>1</td>\n",
       "      <td>3</td>\n",
       "      <td>145</td>\n",
       "      <td>233</td>\n",
       "      <td>1</td>\n",
       "      <td>0</td>\n",
       "      <td>150</td>\n",
       "      <td>0</td>\n",
       "      <td>2.300</td>\n",
       "      <td>0</td>\n",
       "      <td>0</td>\n",
       "      <td>1</td>\n",
       "      <td>1</td>\n",
       "    </tr>\n",
       "    <tr>\n",
       "      <th>1</th>\n",
       "      <td>37</td>\n",
       "      <td>1</td>\n",
       "      <td>2</td>\n",
       "      <td>130</td>\n",
       "      <td>250</td>\n",
       "      <td>0</td>\n",
       "      <td>1</td>\n",
       "      <td>187</td>\n",
       "      <td>0</td>\n",
       "      <td>3.500</td>\n",
       "      <td>0</td>\n",
       "      <td>0</td>\n",
       "      <td>2</td>\n",
       "      <td>1</td>\n",
       "    </tr>\n",
       "    <tr>\n",
       "      <th>2</th>\n",
       "      <td>41</td>\n",
       "      <td>0</td>\n",
       "      <td>1</td>\n",
       "      <td>130</td>\n",
       "      <td>204</td>\n",
       "      <td>0</td>\n",
       "      <td>0</td>\n",
       "      <td>172</td>\n",
       "      <td>0</td>\n",
       "      <td>1.400</td>\n",
       "      <td>2</td>\n",
       "      <td>0</td>\n",
       "      <td>2</td>\n",
       "      <td>1</td>\n",
       "    </tr>\n",
       "    <tr>\n",
       "      <th>3</th>\n",
       "      <td>56</td>\n",
       "      <td>1</td>\n",
       "      <td>1</td>\n",
       "      <td>120</td>\n",
       "      <td>236</td>\n",
       "      <td>0</td>\n",
       "      <td>1</td>\n",
       "      <td>178</td>\n",
       "      <td>0</td>\n",
       "      <td>0.800</td>\n",
       "      <td>2</td>\n",
       "      <td>0</td>\n",
       "      <td>2</td>\n",
       "      <td>1</td>\n",
       "    </tr>\n",
       "    <tr>\n",
       "      <th>4</th>\n",
       "      <td>57</td>\n",
       "      <td>0</td>\n",
       "      <td>0</td>\n",
       "      <td>120</td>\n",
       "      <td>354</td>\n",
       "      <td>0</td>\n",
       "      <td>1</td>\n",
       "      <td>163</td>\n",
       "      <td>1</td>\n",
       "      <td>0.600</td>\n",
       "      <td>2</td>\n",
       "      <td>0</td>\n",
       "      <td>2</td>\n",
       "      <td>1</td>\n",
       "    </tr>\n",
       "  </tbody>\n",
       "</table>\n",
       "</div>"
      ],
      "text/plain": [
       "   age  sex  cp  trestbps  chol  fbs  restecg  thalach  exang  oldpeak  slope  \\\n",
       "0   63    1   3       145   233    1        0      150      0    2.300      0   \n",
       "1   37    1   2       130   250    0        1      187      0    3.500      0   \n",
       "2   41    0   1       130   204    0        0      172      0    1.400      2   \n",
       "3   56    1   1       120   236    0        1      178      0    0.800      2   \n",
       "4   57    0   0       120   354    0        1      163      1    0.600      2   \n",
       "\n",
       "   ca  thal  target  \n",
       "0   0     1       1  \n",
       "1   0     2       1  \n",
       "2   0     2       1  \n",
       "3   0     2       1  \n",
       "4   0     2       1  "
      ]
     },
     "execution_count": 2,
     "metadata": {},
     "output_type": "execute_result"
    }
   ],
   "source": [
    "df = pd.read_csv('heart.csv')\n",
    "df.head()"
   ]
  },
  {
   "cell_type": "markdown",
   "id": "v64txbyYwhzL",
   "metadata": {
    "id": "v64txbyYwhzL"
   },
   "source": [
    "# EDA"
   ]
  },
  {
   "cell_type": "code",
   "execution_count": 3,
   "id": "26d04a34",
   "metadata": {},
   "outputs": [
    {
     "name": "stdout",
     "output_type": "stream",
     "text": [
      "<class 'pandas.core.frame.DataFrame'>\n",
      "RangeIndex: 303 entries, 0 to 302\n",
      "Data columns (total 14 columns):\n",
      " #   Column    Non-Null Count  Dtype  \n",
      "---  ------    --------------  -----  \n",
      " 0   age       303 non-null    int64  \n",
      " 1   sex       303 non-null    int64  \n",
      " 2   cp        303 non-null    int64  \n",
      " 3   trestbps  303 non-null    int64  \n",
      " 4   chol      303 non-null    int64  \n",
      " 5   fbs       303 non-null    int64  \n",
      " 6   restecg   303 non-null    int64  \n",
      " 7   thalach   303 non-null    int64  \n",
      " 8   exang     303 non-null    int64  \n",
      " 9   oldpeak   303 non-null    float64\n",
      " 10  slope     303 non-null    int64  \n",
      " 11  ca        303 non-null    int64  \n",
      " 12  thal      303 non-null    int64  \n",
      " 13  target    303 non-null    int64  \n",
      "dtypes: float64(1), int64(13)\n",
      "memory usage: 33.3 KB\n"
     ]
    }
   ],
   "source": [
    "df.info()"
   ]
  },
  {
   "cell_type": "markdown",
   "id": "0d3bf537",
   "metadata": {},
   "source": [
    "**Duplicate value control**"
   ]
  },
  {
   "cell_type": "code",
   "execution_count": 4,
   "id": "bc392cf9",
   "metadata": {},
   "outputs": [
    {
     "data": {
      "text/plain": [
       "1"
      ]
     },
     "execution_count": 4,
     "metadata": {},
     "output_type": "execute_result"
    }
   ],
   "source": [
    "df.duplicated().sum()"
   ]
  },
  {
   "cell_type": "markdown",
   "id": "40324508",
   "metadata": {},
   "source": [
    "**We have one duplicate observation. We dropped it and reset dataframe index**"
   ]
  },
  {
   "cell_type": "code",
   "execution_count": 5,
   "id": "0a9ef7b8",
   "metadata": {},
   "outputs": [],
   "source": [
    "df.drop_duplicates(inplace=True)"
   ]
  },
  {
   "cell_type": "code",
   "execution_count": null,
   "id": "f3028078",
   "metadata": {},
   "outputs": [],
   "source": [
    "df.reset_index(drop=True)"
   ]
  },
  {
   "cell_type": "code",
   "execution_count": 7,
   "id": "bc7eca15-a6ca-4959-a43b-d20e37bcefb3",
   "metadata": {
    "id": "bc7eca15-a6ca-4959-a43b-d20e37bcefb3"
   },
   "outputs": [
    {
     "name": "stdout",
     "output_type": "stream",
     "text": [
      "<class 'pandas.core.frame.DataFrame'>\n",
      "Int64Index: 302 entries, 0 to 302\n",
      "Data columns (total 14 columns):\n",
      " #   Column    Non-Null Count  Dtype  \n",
      "---  ------    --------------  -----  \n",
      " 0   age       302 non-null    int64  \n",
      " 1   sex       302 non-null    int64  \n",
      " 2   cp        302 non-null    int64  \n",
      " 3   trestbps  302 non-null    int64  \n",
      " 4   chol      302 non-null    int64  \n",
      " 5   fbs       302 non-null    int64  \n",
      " 6   restecg   302 non-null    int64  \n",
      " 7   thalach   302 non-null    int64  \n",
      " 8   exang     302 non-null    int64  \n",
      " 9   oldpeak   302 non-null    float64\n",
      " 10  slope     302 non-null    int64  \n",
      " 11  ca        302 non-null    int64  \n",
      " 12  thal      302 non-null    int64  \n",
      " 13  target    302 non-null    int64  \n",
      "dtypes: float64(1), int64(13)\n",
      "memory usage: 35.4 KB\n"
     ]
    }
   ],
   "source": [
    "df.info()"
   ]
  },
  {
   "cell_type": "markdown",
   "id": "8bf33c78",
   "metadata": {},
   "source": [
    "**Although all our features are numerical, we have separated them categorically and numerically according to the values they take. We did not include the \"target\" column here, we will consider it separately**"
   ]
  },
  {
   "cell_type": "code",
   "execution_count": 8,
   "id": "1fcf7bc3",
   "metadata": {},
   "outputs": [],
   "source": [
    "cat =[\"sex\",\"cp\",\"fbs\",\"restecg\",\"exang\",\"slope\",\"thal\"]\n",
    "num =[\"age\",\"trestbps\",\"chol\",\"thalach\",\"oldpeak\"]"
   ]
  },
  {
   "cell_type": "markdown",
   "id": "5b522d83",
   "metadata": {},
   "source": [
    "**Shape control**"
   ]
  },
  {
   "cell_type": "code",
   "execution_count": 9,
   "id": "f11b20c6",
   "metadata": {},
   "outputs": [
    {
     "name": "stdout",
     "output_type": "stream",
     "text": [
      " We have 302 instances with the 13 features and 1 target variable\n"
     ]
    }
   ],
   "source": [
    "print (f' We have {df.shape[0]} instances with the {df.shape[1]-1} features and 1 target variable')"
   ]
  },
  {
   "cell_type": "markdown",
   "id": "b3e00508",
   "metadata": {},
   "source": [
    "**Missing value control**"
   ]
  },
  {
   "cell_type": "code",
   "execution_count": 10,
   "id": "c399295d",
   "metadata": {},
   "outputs": [
    {
     "data": {
      "text/html": [
       "<div>\n",
       "<style scoped>\n",
       "    .dataframe tbody tr th:only-of-type {\n",
       "        vertical-align: middle;\n",
       "    }\n",
       "\n",
       "    .dataframe tbody tr th {\n",
       "        vertical-align: top;\n",
       "    }\n",
       "\n",
       "    .dataframe thead th {\n",
       "        text-align: right;\n",
       "    }\n",
       "</style>\n",
       "<table border=\"1\" class=\"dataframe\">\n",
       "  <thead>\n",
       "    <tr style=\"text-align: right;\">\n",
       "      <th></th>\n",
       "      <th>Missing_Number</th>\n",
       "      <th>Missing_Percent</th>\n",
       "    </tr>\n",
       "  </thead>\n",
       "  <tbody>\n",
       "    <tr>\n",
       "      <th>age</th>\n",
       "      <td>0</td>\n",
       "      <td>0.000</td>\n",
       "    </tr>\n",
       "    <tr>\n",
       "      <th>sex</th>\n",
       "      <td>0</td>\n",
       "      <td>0.000</td>\n",
       "    </tr>\n",
       "    <tr>\n",
       "      <th>cp</th>\n",
       "      <td>0</td>\n",
       "      <td>0.000</td>\n",
       "    </tr>\n",
       "    <tr>\n",
       "      <th>trestbps</th>\n",
       "      <td>0</td>\n",
       "      <td>0.000</td>\n",
       "    </tr>\n",
       "    <tr>\n",
       "      <th>chol</th>\n",
       "      <td>0</td>\n",
       "      <td>0.000</td>\n",
       "    </tr>\n",
       "    <tr>\n",
       "      <th>fbs</th>\n",
       "      <td>0</td>\n",
       "      <td>0.000</td>\n",
       "    </tr>\n",
       "    <tr>\n",
       "      <th>restecg</th>\n",
       "      <td>0</td>\n",
       "      <td>0.000</td>\n",
       "    </tr>\n",
       "    <tr>\n",
       "      <th>thalach</th>\n",
       "      <td>0</td>\n",
       "      <td>0.000</td>\n",
       "    </tr>\n",
       "    <tr>\n",
       "      <th>exang</th>\n",
       "      <td>0</td>\n",
       "      <td>0.000</td>\n",
       "    </tr>\n",
       "    <tr>\n",
       "      <th>oldpeak</th>\n",
       "      <td>0</td>\n",
       "      <td>0.000</td>\n",
       "    </tr>\n",
       "    <tr>\n",
       "      <th>slope</th>\n",
       "      <td>0</td>\n",
       "      <td>0.000</td>\n",
       "    </tr>\n",
       "    <tr>\n",
       "      <th>ca</th>\n",
       "      <td>0</td>\n",
       "      <td>0.000</td>\n",
       "    </tr>\n",
       "    <tr>\n",
       "      <th>thal</th>\n",
       "      <td>0</td>\n",
       "      <td>0.000</td>\n",
       "    </tr>\n",
       "    <tr>\n",
       "      <th>target</th>\n",
       "      <td>0</td>\n",
       "      <td>0.000</td>\n",
       "    </tr>\n",
       "  </tbody>\n",
       "</table>\n",
       "</div>"
      ],
      "text/plain": [
       "          Missing_Number  Missing_Percent\n",
       "age                    0            0.000\n",
       "sex                    0            0.000\n",
       "cp                     0            0.000\n",
       "trestbps               0            0.000\n",
       "chol                   0            0.000\n",
       "fbs                    0            0.000\n",
       "restecg                0            0.000\n",
       "thalach                0            0.000\n",
       "exang                  0            0.000\n",
       "oldpeak                0            0.000\n",
       "slope                  0            0.000\n",
       "ca                     0            0.000\n",
       "thal                   0            0.000\n",
       "target                 0            0.000"
      ]
     },
     "execution_count": 10,
     "metadata": {},
     "output_type": "execute_result"
    }
   ],
   "source": [
    "def missing (df):\n",
    "    missing_number = df.isnull().sum().sort_values(ascending=False)\n",
    "    missing_percent = (df.isnull().sum()/df.isnull().count()).sort_values(ascending=False)\n",
    "    missing_values = pd.concat([missing_number, missing_percent], axis=1, keys=['Missing_Number', 'Missing_Percent'])\n",
    "    return missing_values\n",
    "\n",
    "missing(df)"
   ]
  },
  {
   "cell_type": "markdown",
   "id": "e14381ec",
   "metadata": {},
   "source": [
    "**Statistic insight on the numerical columns**"
   ]
  },
  {
   "cell_type": "code",
   "execution_count": 11,
   "id": "8f3076d3",
   "metadata": {},
   "outputs": [
    {
     "data": {
      "text/html": [
       "<div>\n",
       "<style scoped>\n",
       "    .dataframe tbody tr th:only-of-type {\n",
       "        vertical-align: middle;\n",
       "    }\n",
       "\n",
       "    .dataframe tbody tr th {\n",
       "        vertical-align: top;\n",
       "    }\n",
       "\n",
       "    .dataframe thead th {\n",
       "        text-align: right;\n",
       "    }\n",
       "</style>\n",
       "<table border=\"1\" class=\"dataframe\">\n",
       "  <thead>\n",
       "    <tr style=\"text-align: right;\">\n",
       "      <th></th>\n",
       "      <th>count</th>\n",
       "      <th>mean</th>\n",
       "      <th>std</th>\n",
       "      <th>min</th>\n",
       "      <th>25%</th>\n",
       "      <th>50%</th>\n",
       "      <th>75%</th>\n",
       "      <th>max</th>\n",
       "    </tr>\n",
       "  </thead>\n",
       "  <tbody>\n",
       "    <tr>\n",
       "      <th>age</th>\n",
       "      <td>302.000</td>\n",
       "      <td>54.421</td>\n",
       "      <td>9.048</td>\n",
       "      <td>29.000</td>\n",
       "      <td>48.000</td>\n",
       "      <td>55.500</td>\n",
       "      <td>61.000</td>\n",
       "      <td>77.000</td>\n",
       "    </tr>\n",
       "    <tr>\n",
       "      <th>trestbps</th>\n",
       "      <td>302.000</td>\n",
       "      <td>131.603</td>\n",
       "      <td>17.563</td>\n",
       "      <td>94.000</td>\n",
       "      <td>120.000</td>\n",
       "      <td>130.000</td>\n",
       "      <td>140.000</td>\n",
       "      <td>200.000</td>\n",
       "    </tr>\n",
       "    <tr>\n",
       "      <th>chol</th>\n",
       "      <td>302.000</td>\n",
       "      <td>246.500</td>\n",
       "      <td>51.753</td>\n",
       "      <td>126.000</td>\n",
       "      <td>211.000</td>\n",
       "      <td>240.500</td>\n",
       "      <td>274.750</td>\n",
       "      <td>564.000</td>\n",
       "    </tr>\n",
       "    <tr>\n",
       "      <th>thalach</th>\n",
       "      <td>302.000</td>\n",
       "      <td>149.570</td>\n",
       "      <td>22.904</td>\n",
       "      <td>71.000</td>\n",
       "      <td>133.250</td>\n",
       "      <td>152.500</td>\n",
       "      <td>166.000</td>\n",
       "      <td>202.000</td>\n",
       "    </tr>\n",
       "    <tr>\n",
       "      <th>oldpeak</th>\n",
       "      <td>302.000</td>\n",
       "      <td>1.043</td>\n",
       "      <td>1.161</td>\n",
       "      <td>0.000</td>\n",
       "      <td>0.000</td>\n",
       "      <td>0.800</td>\n",
       "      <td>1.600</td>\n",
       "      <td>6.200</td>\n",
       "    </tr>\n",
       "  </tbody>\n",
       "</table>\n",
       "</div>"
      ],
      "text/plain": [
       "           count    mean    std     min     25%     50%     75%     max\n",
       "age      302.000  54.421  9.048  29.000  48.000  55.500  61.000  77.000\n",
       "trestbps 302.000 131.603 17.563  94.000 120.000 130.000 140.000 200.000\n",
       "chol     302.000 246.500 51.753 126.000 211.000 240.500 274.750 564.000\n",
       "thalach  302.000 149.570 22.904  71.000 133.250 152.500 166.000 202.000\n",
       "oldpeak  302.000   1.043  1.161   0.000   0.000   0.800   1.600   6.200"
      ]
     },
     "execution_count": 11,
     "metadata": {},
     "output_type": "execute_result"
    }
   ],
   "source": [
    "df[num].describe().T"
   ]
  },
  {
   "cell_type": "markdown",
   "id": "8bed001f",
   "metadata": {},
   "source": [
    "**Checking distribution curve skew of numeric columns**"
   ]
  },
  {
   "cell_type": "code",
   "execution_count": 12,
   "id": "e86d9f4e",
   "metadata": {},
   "outputs": [
    {
     "data": {
      "text/plain": [
       "age        -0.204\n",
       "trestbps    0.717\n",
       "chol        1.147\n",
       "thalach    -0.533\n",
       "oldpeak     1.266\n",
       "dtype: float64"
      ]
     },
     "execution_count": 12,
     "metadata": {},
     "output_type": "execute_result"
    }
   ],
   "source": [
    "df[num].skew()"
   ]
  },
  {
   "cell_type": "markdown",
   "id": "e13646f9",
   "metadata": {},
   "source": [
    "**Checking histogram plot of numeric columns**"
   ]
  },
  {
   "cell_type": "code",
   "execution_count": 13,
   "id": "4b4793c6",
   "metadata": {},
   "outputs": [
    {
     "data": {
      "image/png": "[encoded data removed]",
      "text/plain": [
       "<Figure size 864x576 with 6 Axes>"
      ]
     },
     "metadata": {
      "needs_background": "light"
     },
     "output_type": "display_data"
    }
   ],
   "source": [
    "df[num].hist(figsize=(12,8),bins=20);"
   ]
  },
  {
   "cell_type": "markdown",
   "id": "44c85be8",
   "metadata": {},
   "source": [
    "**Checking value counts of categorical columns**"
   ]
  },
  {
   "cell_type": "code",
   "execution_count": 14,
   "id": "26685598",
   "metadata": {},
   "outputs": [
    {
     "name": "stdout",
     "output_type": "stream",
     "text": [
      "==============================\n",
      "1    206\n",
      "0     96\n",
      "Name: sex, dtype: int64\n",
      "==============================\n",
      "==============================\n",
      "0    143\n",
      "2     86\n",
      "1     50\n",
      "3     23\n",
      "Name: cp, dtype: int64\n",
      "==============================\n",
      "==============================\n",
      "0    257\n",
      "1     45\n",
      "Name: fbs, dtype: int64\n",
      "==============================\n",
      "==============================\n",
      "1    151\n",
      "0    147\n",
      "2      4\n",
      "Name: restecg, dtype: int64\n",
      "==============================\n",
      "==============================\n",
      "0    203\n",
      "1     99\n",
      "Name: exang, dtype: int64\n",
      "==============================\n",
      "==============================\n",
      "2    141\n",
      "1    140\n",
      "0     21\n",
      "Name: slope, dtype: int64\n",
      "==============================\n",
      "==============================\n",
      "2    165\n",
      "3    117\n",
      "1     18\n",
      "0      2\n",
      "Name: thal, dtype: int64\n",
      "==============================\n"
     ]
    }
   ],
   "source": [
    "for i in cat:\n",
    "    print(\"=\"*30)\n",
    "    print(df[i].value_counts())\n",
    "    print(\"=\"*30)"
   ]
  },
  {
   "cell_type": "markdown",
   "id": "3fb39436",
   "metadata": {},
   "source": [
    "**Showing the value counts of categorical columns by target column on the chart**"
   ]
  },
  {
   "cell_type": "code",
   "execution_count": 15,
   "id": "d238772b",
   "metadata": {
    "scrolled": false
   },
   "outputs": [
    {
     "data": {
      "image/png": "[encoded data removed]",
      "text/plain": [
       "<Figure size 576x432 with 1 Axes>"
      ]
     },
     "metadata": {
      "needs_background": "light"
     },
     "output_type": "display_data"
    },
    {
     "data": {
      "image/png": "[encoded data removed]",
      "text/plain": [
       "<Figure size 576x432 with 1 Axes>"
      ]
     },
     "metadata": {
      "needs_background": "light"
     },
     "output_type": "display_data"
    },
    {
     "data": {
      "image/png": "[encoded data removed]",
      "text/plain": [
       "<Figure size 576x432 with 1 Axes>"
      ]
     },
     "metadata": {
      "needs_background": "light"
     },
     "output_type": "display_data"
    },
    {
     "data": {
      "image/png": "[encoded data removed]",
      "text/plain": [
       "<Figure size 576x432 with 1 Axes>"
      ]
     },
     "metadata": {
      "needs_background": "light"
     },
     "output_type": "display_data"
    },
    {
     "data": {
      "image/png": "[encoded data removed]",
      "text/plain": [
       "<Figure size 576x432 with 1 Axes>"
      ]
     },
     "metadata": {
      "needs_background": "light"
     },
     "output_type": "display_data"
    },
    {
     "data": {
      "image/png": "[encoded data removed]",
      "text/plain": [
       "<Figure size 576x432 with 1 Axes>"
      ]
     },
     "metadata": {
      "needs_background": "light"
     },
     "output_type": "display_data"
    },
    {
     "data": {
      "image/png": "[encoded data removed]",
      "text/plain": [
       "<Figure size 576x432 with 1 Axes>"
      ]
     },
     "metadata": {
      "needs_background": "light"
     },
     "output_type": "display_data"
    }
   ],
   "source": [
    "for i in cat:\n",
    "    plt.figure(figsize=(8,6))\n",
    "    sns.countplot(data=df, x=i, hue=\"target\")"
   ]
  },
  {
   "cell_type": "markdown",
   "id": "82cbc7ca",
   "metadata": {},
   "source": [
    "#### We examined the numerical columns on the boxplot. \n",
    "**Although there are some outlier data, we did not delete the outlier data here because there may be such values in the health data.**"
   ]
  },
  {
   "cell_type": "code",
   "execution_count": 16,
   "id": "d1d1d9a2",
   "metadata": {
    "scrolled": false
   },
   "outputs": [
    {
     "data": {
      "image/png": "[encoded data removed]",
      "text/plain": [
       "<Figure size 1440x1440 with 5 Axes>"
      ]
     },
     "metadata": {
      "needs_background": "light"
     },
     "output_type": "display_data"
    }
   ],
   "source": [
    "index = 0\n",
    "plt.figure(figsize=(20,20))\n",
    "for feature in df[num]:\n",
    "    if feature != \"target\":\n",
    "        index += 1\n",
    "        plt.subplot(3,3,index)\n",
    "        sns.boxplot(x='target',y=feature,data=df)"
   ]
  },
  {
   "cell_type": "markdown",
   "id": "58752702",
   "metadata": {},
   "source": [
    "### We examine the \"target\" column"
   ]
  },
  {
   "cell_type": "code",
   "execution_count": 17,
   "id": "1a08cba8",
   "metadata": {},
   "outputs": [
    {
     "name": "stdout",
     "output_type": "stream",
     "text": [
      "Percentage of patient had a stroke: % 54.3 --> (164 patient)\n",
      "Percentage of patient did not have a stroke: % 45.7 --> (138 patient)\n"
     ]
    }
   ],
   "source": [
    "y = df['target']\n",
    "print(f'Percentage of patient had a stroke: % {round(y.value_counts(normalize=True)[1]*100,2)} --> ({y.value_counts()[1]} patient)')\n",
    "print(f'Percentage of patient did not have a stroke: % {round(y.value_counts(normalize=True)[0]*100,2)} --> ({y.value_counts()[0]} patient)')"
   ]
  },
  {
   "cell_type": "markdown",
   "id": "827e11a7",
   "metadata": {},
   "source": [
    "**Our data seems balanced.**"
   ]
  },
  {
   "cell_type": "code",
   "execution_count": 18,
   "id": "9522c634",
   "metadata": {},
   "outputs": [
    {
     "data": {
      "image/png": "[encoded data removed]",
      "text/plain": [
       "<Figure size 648x432 with 1 Axes>"
      ]
     },
     "metadata": {
      "needs_background": "light"
     },
     "output_type": "display_data"
    }
   ],
   "source": [
    "sns.countplot(df[\"target\"]);"
   ]
  },
  {
   "cell_type": "markdown",
   "id": "3ea37f60",
   "metadata": {},
   "source": [
    "**We examined the correlation of the features according to the target column**"
   ]
  },
  {
   "cell_type": "code",
   "execution_count": 19,
   "id": "15a913c4",
   "metadata": {},
   "outputs": [
    {
     "data": {
      "image/png": "[encoded data removed]",
      "text/plain": [
       "<Figure size 648x432 with 1 Axes>"
      ]
     },
     "metadata": {
      "needs_background": "light"
     },
     "output_type": "display_data"
    }
   ],
   "source": [
    "df.corr()[\"target\"].drop(\"target\").sort_values().plot.barh();"
   ]
  },
  {
   "cell_type": "code",
   "execution_count": 20,
   "id": "13028cea",
   "metadata": {},
   "outputs": [
    {
     "data": {
      "image/png": "[encoded data removed]",
      "text/plain": [
       "<Figure size 1080x576 with 2 Axes>"
      ]
     },
     "metadata": {
      "needs_background": "light"
     },
     "output_type": "display_data"
    }
   ],
   "source": [
    "plt.figure(figsize=(15,8))\n",
    "sns.heatmap(df.corr(), annot=True);"
   ]
  },
  {
   "cell_type": "markdown",
   "id": "9XRYs7_ZwvG1",
   "metadata": {
    "id": "9XRYs7_ZwvG1"
   },
   "source": [
    "# Data Preprocessing"
   ]
  },
  {
   "cell_type": "code",
   "execution_count": 75,
   "id": "5d5dc755-7e67-4ee7-9706-a21c1bd6ff09",
   "metadata": {
    "id": "5d5dc755-7e67-4ee7-9706-a21c1bd6ff09"
   },
   "outputs": [],
   "source": [
    "from sklearn.model_selection import train_test_split\n",
    "from sklearn.preprocessing import StandardScaler, MinMaxScaler"
   ]
  },
  {
   "cell_type": "code",
   "execution_count": 76,
   "id": "b4f607b6",
   "metadata": {},
   "outputs": [],
   "source": [
    "X = df.drop('target',axis=1)\n",
    "y = df['target']"
   ]
  },
  {
   "cell_type": "code",
   "execution_count": 77,
   "id": "bbe44249",
   "metadata": {},
   "outputs": [],
   "source": [
    "X_train, X_test, y_train, y_test = train_test_split(X, y, test_size=0.25, random_state=42)"
   ]
  },
  {
   "cell_type": "code",
   "execution_count": 78,
   "id": "2e613e9d",
   "metadata": {},
   "outputs": [],
   "source": [
    "scaler = MinMaxScaler()\n",
    "X_train_scaled = scaler.fit_transform(X_train)\n",
    "X_test_scaled = scaler.transform(X_test)"
   ]
  },
  {
   "cell_type": "markdown",
   "id": "jeBjgfDiw6uJ",
   "metadata": {
    "id": "jeBjgfDiw6uJ"
   },
   "source": [
    "# Implement Logistic Regression and Evaluate"
   ]
  },
  {
   "cell_type": "code",
   "execution_count": 79,
   "id": "f7f6864d-dfad-433b-a2a5-fd7e92865fd0",
   "metadata": {
    "id": "f7f6864d-dfad-433b-a2a5-fd7e92865fd0"
   },
   "outputs": [],
   "source": [
    "from sklearn.linear_model import LogisticRegression\n",
    "from sklearn.model_selection import GridSearchCV"
   ]
  },
  {
   "cell_type": "markdown",
   "id": "b399fce9",
   "metadata": {},
   "source": [
    "### With Default Parameters"
   ]
  },
  {
   "cell_type": "code",
   "execution_count": 80,
   "id": "5bd76a90",
   "metadata": {},
   "outputs": [],
   "source": [
    "log_model = LogisticRegression(class_weight = \"balanced\")\n",
    "log_model.fit(X_train_scaled,y_train)\n",
    "y_pred = log_model.predict(X_test_scaled)\n",
    "y_pred_proba = log_model.predict_proba(X_test_scaled)"
   ]
  },
  {
   "cell_type": "code",
   "execution_count": 81,
   "id": "a002908a",
   "metadata": {},
   "outputs": [
    {
     "data": {
      "text/html": [
       "<div>\n",
       "<style scoped>\n",
       "    .dataframe tbody tr th:only-of-type {\n",
       "        vertical-align: middle;\n",
       "    }\n",
       "\n",
       "    .dataframe tbody tr th {\n",
       "        vertical-align: top;\n",
       "    }\n",
       "\n",
       "    .dataframe thead th {\n",
       "        text-align: right;\n",
       "    }\n",
       "</style>\n",
       "<table border=\"1\" class=\"dataframe\">\n",
       "  <thead>\n",
       "    <tr style=\"text-align: right;\">\n",
       "      <th></th>\n",
       "      <th>age</th>\n",
       "      <th>sex</th>\n",
       "      <th>cp</th>\n",
       "      <th>trestbps</th>\n",
       "      <th>chol</th>\n",
       "      <th>fbs</th>\n",
       "      <th>restecg</th>\n",
       "      <th>thalach</th>\n",
       "      <th>exang</th>\n",
       "      <th>oldpeak</th>\n",
       "      <th>slope</th>\n",
       "      <th>ca</th>\n",
       "      <th>thal</th>\n",
       "      <th>target</th>\n",
       "      <th>pred</th>\n",
       "      <th>pred_proba</th>\n",
       "    </tr>\n",
       "  </thead>\n",
       "  <tbody>\n",
       "    <tr>\n",
       "      <th>269</th>\n",
       "      <td>56</td>\n",
       "      <td>1</td>\n",
       "      <td>0</td>\n",
       "      <td>130</td>\n",
       "      <td>283</td>\n",
       "      <td>1</td>\n",
       "      <td>0</td>\n",
       "      <td>103</td>\n",
       "      <td>1</td>\n",
       "      <td>1.600</td>\n",
       "      <td>0</td>\n",
       "      <td>0</td>\n",
       "      <td>3</td>\n",
       "      <td>0</td>\n",
       "      <td>0</td>\n",
       "      <td>0.040</td>\n",
       "    </tr>\n",
       "    <tr>\n",
       "      <th>292</th>\n",
       "      <td>58</td>\n",
       "      <td>0</td>\n",
       "      <td>0</td>\n",
       "      <td>170</td>\n",
       "      <td>225</td>\n",
       "      <td>1</td>\n",
       "      <td>0</td>\n",
       "      <td>146</td>\n",
       "      <td>1</td>\n",
       "      <td>2.800</td>\n",
       "      <td>1</td>\n",
       "      <td>2</td>\n",
       "      <td>1</td>\n",
       "      <td>0</td>\n",
       "      <td>0</td>\n",
       "      <td>0.197</td>\n",
       "    </tr>\n",
       "    <tr>\n",
       "      <th>300</th>\n",
       "      <td>68</td>\n",
       "      <td>1</td>\n",
       "      <td>0</td>\n",
       "      <td>144</td>\n",
       "      <td>193</td>\n",
       "      <td>1</td>\n",
       "      <td>1</td>\n",
       "      <td>141</td>\n",
       "      <td>0</td>\n",
       "      <td>3.400</td>\n",
       "      <td>1</td>\n",
       "      <td>2</td>\n",
       "      <td>3</td>\n",
       "      <td>0</td>\n",
       "      <td>0</td>\n",
       "      <td>0.092</td>\n",
       "    </tr>\n",
       "    <tr>\n",
       "      <th>60</th>\n",
       "      <td>71</td>\n",
       "      <td>0</td>\n",
       "      <td>2</td>\n",
       "      <td>110</td>\n",
       "      <td>265</td>\n",
       "      <td>1</td>\n",
       "      <td>0</td>\n",
       "      <td>130</td>\n",
       "      <td>0</td>\n",
       "      <td>0.000</td>\n",
       "      <td>2</td>\n",
       "      <td>1</td>\n",
       "      <td>2</td>\n",
       "      <td>1</td>\n",
       "      <td>1</td>\n",
       "      <td>0.895</td>\n",
       "    </tr>\n",
       "    <tr>\n",
       "      <th>77</th>\n",
       "      <td>59</td>\n",
       "      <td>1</td>\n",
       "      <td>1</td>\n",
       "      <td>140</td>\n",
       "      <td>221</td>\n",
       "      <td>0</td>\n",
       "      <td>1</td>\n",
       "      <td>164</td>\n",
       "      <td>1</td>\n",
       "      <td>0.000</td>\n",
       "      <td>2</td>\n",
       "      <td>0</td>\n",
       "      <td>2</td>\n",
       "      <td>1</td>\n",
       "      <td>1</td>\n",
       "      <td>0.565</td>\n",
       "    </tr>\n",
       "    <tr>\n",
       "      <th>178</th>\n",
       "      <td>43</td>\n",
       "      <td>1</td>\n",
       "      <td>0</td>\n",
       "      <td>120</td>\n",
       "      <td>177</td>\n",
       "      <td>0</td>\n",
       "      <td>0</td>\n",
       "      <td>120</td>\n",
       "      <td>1</td>\n",
       "      <td>2.500</td>\n",
       "      <td>1</td>\n",
       "      <td>0</td>\n",
       "      <td>3</td>\n",
       "      <td>0</td>\n",
       "      <td>0</td>\n",
       "      <td>0.074</td>\n",
       "    </tr>\n",
       "    <tr>\n",
       "      <th>152</th>\n",
       "      <td>64</td>\n",
       "      <td>1</td>\n",
       "      <td>3</td>\n",
       "      <td>170</td>\n",
       "      <td>227</td>\n",
       "      <td>0</td>\n",
       "      <td>0</td>\n",
       "      <td>155</td>\n",
       "      <td>0</td>\n",
       "      <td>0.600</td>\n",
       "      <td>1</td>\n",
       "      <td>0</td>\n",
       "      <td>3</td>\n",
       "      <td>1</td>\n",
       "      <td>1</td>\n",
       "      <td>0.545</td>\n",
       "    </tr>\n",
       "    <tr>\n",
       "      <th>137</th>\n",
       "      <td>62</td>\n",
       "      <td>1</td>\n",
       "      <td>1</td>\n",
       "      <td>128</td>\n",
       "      <td>208</td>\n",
       "      <td>1</td>\n",
       "      <td>0</td>\n",
       "      <td>140</td>\n",
       "      <td>0</td>\n",
       "      <td>0.000</td>\n",
       "      <td>2</td>\n",
       "      <td>0</td>\n",
       "      <td>2</td>\n",
       "      <td>1</td>\n",
       "      <td>1</td>\n",
       "      <td>0.722</td>\n",
       "    </tr>\n",
       "    <tr>\n",
       "      <th>93</th>\n",
       "      <td>54</td>\n",
       "      <td>0</td>\n",
       "      <td>1</td>\n",
       "      <td>132</td>\n",
       "      <td>288</td>\n",
       "      <td>1</td>\n",
       "      <td>0</td>\n",
       "      <td>159</td>\n",
       "      <td>1</td>\n",
       "      <td>0.000</td>\n",
       "      <td>2</td>\n",
       "      <td>1</td>\n",
       "      <td>2</td>\n",
       "      <td>1</td>\n",
       "      <td>1</td>\n",
       "      <td>0.699</td>\n",
       "    </tr>\n",
       "    <tr>\n",
       "      <th>92</th>\n",
       "      <td>52</td>\n",
       "      <td>1</td>\n",
       "      <td>2</td>\n",
       "      <td>138</td>\n",
       "      <td>223</td>\n",
       "      <td>0</td>\n",
       "      <td>1</td>\n",
       "      <td>169</td>\n",
       "      <td>0</td>\n",
       "      <td>0.000</td>\n",
       "      <td>2</td>\n",
       "      <td>4</td>\n",
       "      <td>2</td>\n",
       "      <td>1</td>\n",
       "      <td>0</td>\n",
       "      <td>0.466</td>\n",
       "    </tr>\n",
       "  </tbody>\n",
       "</table>\n",
       "</div>"
      ],
      "text/plain": [
       "     age  sex  cp  trestbps  chol  fbs  restecg  thalach  exang  oldpeak  \\\n",
       "269   56    1   0       130   283    1        0      103      1    1.600   \n",
       "292   58    0   0       170   225    1        0      146      1    2.800   \n",
       "300   68    1   0       144   193    1        1      141      0    3.400   \n",
       "60    71    0   2       110   265    1        0      130      0    0.000   \n",
       "77    59    1   1       140   221    0        1      164      1    0.000   \n",
       "178   43    1   0       120   177    0        0      120      1    2.500   \n",
       "152   64    1   3       170   227    0        0      155      0    0.600   \n",
       "137   62    1   1       128   208    1        0      140      0    0.000   \n",
       "93    54    0   1       132   288    1        0      159      1    0.000   \n",
       "92    52    1   2       138   223    0        1      169      0    0.000   \n",
       "\n",
       "     slope  ca  thal  target  pred  pred_proba  \n",
       "269      0   0     3       0     0       0.040  \n",
       "292      1   2     1       0     0       0.197  \n",
       "300      1   2     3       0     0       0.092  \n",
       "60       2   1     2       1     1       0.895  \n",
       "77       2   0     2       1     1       0.565  \n",
       "178      1   0     3       0     0       0.074  \n",
       "152      1   0     3       1     1       0.545  \n",
       "137      2   0     2       1     1       0.722  \n",
       "93       2   1     2       1     1       0.699  \n",
       "92       2   4     2       1     0       0.466  "
      ]
     },
     "execution_count": 81,
     "metadata": {},
     "output_type": "execute_result"
    }
   ],
   "source": [
    "test_data = pd.concat([X_test, y_test], axis=1)\n",
    "test_data[\"pred\"] = y_pred\n",
    "test_data[\"pred_proba\"] = y_pred_proba[:,1]\n",
    "test_data.sample(10)"
   ]
  },
  {
   "cell_type": "code",
   "execution_count": 82,
   "id": "6268f4cd",
   "metadata": {},
   "outputs": [
    {
     "name": "stdout",
     "output_type": "stream",
     "text": [
      "[[30  5]\n",
      " [ 7 34]]\n",
      "              precision    recall  f1-score   support\n",
      "\n",
      "           0       0.81      0.86      0.83        35\n",
      "           1       0.87      0.83      0.85        41\n",
      "\n",
      "    accuracy                           0.84        76\n",
      "   macro avg       0.84      0.84      0.84        76\n",
      "weighted avg       0.84      0.84      0.84        76\n",
      "\n"
     ]
    }
   ],
   "source": [
    "print(confusion_matrix(y_test, y_pred))\n",
    "print(classification_report(y_test, y_pred))"
   ]
  },
  {
   "cell_type": "markdown",
   "id": "535f4986",
   "metadata": {},
   "source": [
    "### Cross Validate"
   ]
  },
  {
   "cell_type": "code",
   "execution_count": 83,
   "id": "da0753f7",
   "metadata": {},
   "outputs": [],
   "source": [
    "from sklearn.model_selection import cross_validate"
   ]
  },
  {
   "cell_type": "code",
   "execution_count": 84,
   "id": "0dec603e",
   "metadata": {},
   "outputs": [
    {
     "data": {
      "text/plain": [
       "test_accuracy             0.837\n",
       "test_precision_weighted   0.848\n",
       "test_recall_weighted      0.837\n",
       "test_f1_weighted          0.835\n",
       "dtype: float64"
      ]
     },
     "execution_count": 84,
     "metadata": {},
     "output_type": "execute_result"
    }
   ],
   "source": [
    "model = LogisticRegression(class_weight = \"balanced\")\n",
    "\n",
    "scores = cross_validate(model, X_train_scaled, y_train, scoring = ['accuracy', 'precision_weighted','recall_weighted',\n",
    "                                                                   'f1_weighted'], cv = 10)\n",
    "df_scores = pd.DataFrame(scores, index = range(1, 11))\n",
    "df_scores.mean()[2:]"
   ]
  },
  {
   "cell_type": "markdown",
   "id": "54281378",
   "metadata": {},
   "source": [
    "### ROC (Receiver Operating Curve) and AUC (Area Under Curve)"
   ]
  },
  {
   "cell_type": "code",
   "execution_count": 85,
   "id": "c350c969",
   "metadata": {},
   "outputs": [],
   "source": [
    "from sklearn.metrics import plot_roc_curve, plot_precision_recall_curve, roc_auc_score, auc, roc_curve, average_precision_score, precision_recall_curve"
   ]
  },
  {
   "cell_type": "markdown",
   "id": "1e9c50ed",
   "metadata": {},
   "source": [
    "**Our model predicted 1s in test data with a rate of 93%**"
   ]
  },
  {
   "cell_type": "code",
   "execution_count": 86,
   "id": "484b91c8",
   "metadata": {},
   "outputs": [
    {
     "data": {
      "image/png": "[encoded data removed]",
      "text/plain": [
       "<Figure size 648x432 with 1 Axes>"
      ]
     },
     "metadata": {
      "needs_background": "light"
     },
     "output_type": "display_data"
    }
   ],
   "source": [
    "plot_roc_curve(log_model, X_test_scaled, y_test);"
   ]
  },
  {
   "cell_type": "code",
   "execution_count": 87,
   "id": "9bdf73f6",
   "metadata": {},
   "outputs": [
    {
     "data": {
      "image/png": "[encoded data removed]",
      "text/plain": [
       "<Figure size 648x432 with 1 Axes>"
      ]
     },
     "metadata": {
      "needs_background": "light"
     },
     "output_type": "display_data"
    }
   ],
   "source": [
    "plot_precision_recall_curve(log_model, X_test_scaled, y_test);"
   ]
  },
  {
   "cell_type": "markdown",
   "id": "b975949f",
   "metadata": {},
   "source": [
    "**The values on the train and test data are almost the same. No overfitting or underfitting**"
   ]
  },
  {
   "cell_type": "code",
   "execution_count": 88,
   "id": "fb7a448d",
   "metadata": {},
   "outputs": [
    {
     "data": {
      "image/png": "[encoded data removed]",
      "text/plain": [
       "<Figure size 648x432 with 1 Axes>"
      ]
     },
     "metadata": {
      "needs_background": "light"
     },
     "output_type": "display_data"
    }
   ],
   "source": [
    "plot_roc_curve(log_model, X_train_scaled, y_train);"
   ]
  },
  {
   "cell_type": "code",
   "execution_count": 89,
   "id": "a394f0f6",
   "metadata": {},
   "outputs": [
    {
     "data": {
      "text/plain": [
       "0.9172783960849317"
      ]
     },
     "execution_count": 89,
     "metadata": {},
     "output_type": "execute_result"
    }
   ],
   "source": [
    "y_pred_proba = log_model.predict_proba(X_train_scaled) # Train datasından proba değerini aldık\n",
    "roc_auc_score(y_train, y_pred_proba[:,1]) # AUC değrerini böyle hesaplıyoruz"
   ]
  },
  {
   "cell_type": "code",
   "execution_count": 90,
   "id": "5b0dc052",
   "metadata": {},
   "outputs": [],
   "source": [
    "fp_rate, tp_rate, thresholds = roc_curve(y_train, y_pred_proba[:,1])"
   ]
  },
  {
   "cell_type": "code",
   "execution_count": 91,
   "id": "4f8f8c0d",
   "metadata": {},
   "outputs": [
    {
     "data": {
      "text/plain": [
       "0.48986292295896866"
      ]
     },
     "execution_count": 91,
     "metadata": {},
     "output_type": "execute_result"
    }
   ],
   "source": [
    "optimal_idx = np.argmax(tp_rate - fp_rate) # argmax bu array içindeki max değerin indexini verir\n",
    "optimal_threshold = thresholds[optimal_idx] # bu indexi threshold değerinde yerine yazark optimum th değerini buldum\n",
    "optimal_threshold"
   ]
  },
  {
   "cell_type": "markdown",
   "id": "758fcc35",
   "metadata": {},
   "source": [
    "**Our th value is almost 0.5. When we re-estimate with this value, we will see that there is no change in the results**"
   ]
  },
  {
   "cell_type": "code",
   "execution_count": 92,
   "id": "941b8da1",
   "metadata": {},
   "outputs": [],
   "source": [
    "test_data[\"pred2\"] = test_data[\"pred_proba\"].apply(lambda x : 1 if x >= optimal_threshold else 0)\n",
    "y_pred2 = test_data[\"pred2\"]"
   ]
  },
  {
   "cell_type": "code",
   "execution_count": 93,
   "id": "9e3a29e7",
   "metadata": {},
   "outputs": [
    {
     "data": {
      "text/html": [
       "<div>\n",
       "<style scoped>\n",
       "    .dataframe tbody tr th:only-of-type {\n",
       "        vertical-align: middle;\n",
       "    }\n",
       "\n",
       "    .dataframe tbody tr th {\n",
       "        vertical-align: top;\n",
       "    }\n",
       "\n",
       "    .dataframe thead th {\n",
       "        text-align: right;\n",
       "    }\n",
       "</style>\n",
       "<table border=\"1\" class=\"dataframe\">\n",
       "  <thead>\n",
       "    <tr style=\"text-align: right;\">\n",
       "      <th></th>\n",
       "      <th>age</th>\n",
       "      <th>sex</th>\n",
       "      <th>cp</th>\n",
       "      <th>trestbps</th>\n",
       "      <th>chol</th>\n",
       "      <th>fbs</th>\n",
       "      <th>restecg</th>\n",
       "      <th>thalach</th>\n",
       "      <th>exang</th>\n",
       "      <th>oldpeak</th>\n",
       "      <th>slope</th>\n",
       "      <th>ca</th>\n",
       "      <th>thal</th>\n",
       "      <th>target</th>\n",
       "      <th>pred</th>\n",
       "      <th>pred_proba</th>\n",
       "      <th>pred2</th>\n",
       "    </tr>\n",
       "  </thead>\n",
       "  <tbody>\n",
       "    <tr>\n",
       "      <th>119</th>\n",
       "      <td>46</td>\n",
       "      <td>0</td>\n",
       "      <td>0</td>\n",
       "      <td>138</td>\n",
       "      <td>243</td>\n",
       "      <td>0</td>\n",
       "      <td>0</td>\n",
       "      <td>152</td>\n",
       "      <td>1</td>\n",
       "      <td>0.000</td>\n",
       "      <td>1</td>\n",
       "      <td>0</td>\n",
       "      <td>2</td>\n",
       "      <td>1</td>\n",
       "      <td>0</td>\n",
       "      <td>0.468</td>\n",
       "      <td>0</td>\n",
       "    </tr>\n",
       "    <tr>\n",
       "      <th>5</th>\n",
       "      <td>57</td>\n",
       "      <td>1</td>\n",
       "      <td>0</td>\n",
       "      <td>140</td>\n",
       "      <td>192</td>\n",
       "      <td>0</td>\n",
       "      <td>1</td>\n",
       "      <td>148</td>\n",
       "      <td>0</td>\n",
       "      <td>0.400</td>\n",
       "      <td>1</td>\n",
       "      <td>0</td>\n",
       "      <td>1</td>\n",
       "      <td>1</td>\n",
       "      <td>1</td>\n",
       "      <td>0.595</td>\n",
       "      <td>1</td>\n",
       "    </tr>\n",
       "    <tr>\n",
       "      <th>152</th>\n",
       "      <td>64</td>\n",
       "      <td>1</td>\n",
       "      <td>3</td>\n",
       "      <td>170</td>\n",
       "      <td>227</td>\n",
       "      <td>0</td>\n",
       "      <td>0</td>\n",
       "      <td>155</td>\n",
       "      <td>0</td>\n",
       "      <td>0.600</td>\n",
       "      <td>1</td>\n",
       "      <td>0</td>\n",
       "      <td>3</td>\n",
       "      <td>1</td>\n",
       "      <td>1</td>\n",
       "      <td>0.545</td>\n",
       "      <td>1</td>\n",
       "    </tr>\n",
       "    <tr>\n",
       "      <th>283</th>\n",
       "      <td>40</td>\n",
       "      <td>1</td>\n",
       "      <td>0</td>\n",
       "      <td>152</td>\n",
       "      <td>223</td>\n",
       "      <td>0</td>\n",
       "      <td>1</td>\n",
       "      <td>181</td>\n",
       "      <td>0</td>\n",
       "      <td>0.000</td>\n",
       "      <td>2</td>\n",
       "      <td>0</td>\n",
       "      <td>3</td>\n",
       "      <td>0</td>\n",
       "      <td>1</td>\n",
       "      <td>0.598</td>\n",
       "      <td>1</td>\n",
       "    </tr>\n",
       "    <tr>\n",
       "      <th>73</th>\n",
       "      <td>51</td>\n",
       "      <td>1</td>\n",
       "      <td>0</td>\n",
       "      <td>140</td>\n",
       "      <td>261</td>\n",
       "      <td>0</td>\n",
       "      <td>0</td>\n",
       "      <td>186</td>\n",
       "      <td>1</td>\n",
       "      <td>0.000</td>\n",
       "      <td>2</td>\n",
       "      <td>0</td>\n",
       "      <td>2</td>\n",
       "      <td>1</td>\n",
       "      <td>0</td>\n",
       "      <td>0.404</td>\n",
       "      <td>0</td>\n",
       "    </tr>\n",
       "    <tr>\n",
       "      <th>199</th>\n",
       "      <td>65</td>\n",
       "      <td>1</td>\n",
       "      <td>0</td>\n",
       "      <td>110</td>\n",
       "      <td>248</td>\n",
       "      <td>0</td>\n",
       "      <td>0</td>\n",
       "      <td>158</td>\n",
       "      <td>0</td>\n",
       "      <td>0.600</td>\n",
       "      <td>2</td>\n",
       "      <td>2</td>\n",
       "      <td>1</td>\n",
       "      <td>0</td>\n",
       "      <td>0</td>\n",
       "      <td>0.465</td>\n",
       "      <td>0</td>\n",
       "    </tr>\n",
       "    <tr>\n",
       "      <th>92</th>\n",
       "      <td>52</td>\n",
       "      <td>1</td>\n",
       "      <td>2</td>\n",
       "      <td>138</td>\n",
       "      <td>223</td>\n",
       "      <td>0</td>\n",
       "      <td>1</td>\n",
       "      <td>169</td>\n",
       "      <td>0</td>\n",
       "      <td>0.000</td>\n",
       "      <td>2</td>\n",
       "      <td>4</td>\n",
       "      <td>2</td>\n",
       "      <td>1</td>\n",
       "      <td>0</td>\n",
       "      <td>0.466</td>\n",
       "      <td>0</td>\n",
       "    </tr>\n",
       "    <tr>\n",
       "      <th>77</th>\n",
       "      <td>59</td>\n",
       "      <td>1</td>\n",
       "      <td>1</td>\n",
       "      <td>140</td>\n",
       "      <td>221</td>\n",
       "      <td>0</td>\n",
       "      <td>1</td>\n",
       "      <td>164</td>\n",
       "      <td>1</td>\n",
       "      <td>0.000</td>\n",
       "      <td>2</td>\n",
       "      <td>0</td>\n",
       "      <td>2</td>\n",
       "      <td>1</td>\n",
       "      <td>1</td>\n",
       "      <td>0.565</td>\n",
       "      <td>1</td>\n",
       "    </tr>\n",
       "    <tr>\n",
       "      <th>281</th>\n",
       "      <td>52</td>\n",
       "      <td>1</td>\n",
       "      <td>0</td>\n",
       "      <td>128</td>\n",
       "      <td>204</td>\n",
       "      <td>1</td>\n",
       "      <td>1</td>\n",
       "      <td>156</td>\n",
       "      <td>1</td>\n",
       "      <td>1.000</td>\n",
       "      <td>1</td>\n",
       "      <td>0</td>\n",
       "      <td>0</td>\n",
       "      <td>0</td>\n",
       "      <td>1</td>\n",
       "      <td>0.580</td>\n",
       "      <td>1</td>\n",
       "    </tr>\n",
       "    <tr>\n",
       "      <th>194</th>\n",
       "      <td>60</td>\n",
       "      <td>1</td>\n",
       "      <td>2</td>\n",
       "      <td>140</td>\n",
       "      <td>185</td>\n",
       "      <td>0</td>\n",
       "      <td>0</td>\n",
       "      <td>155</td>\n",
       "      <td>0</td>\n",
       "      <td>3.000</td>\n",
       "      <td>1</td>\n",
       "      <td>0</td>\n",
       "      <td>2</td>\n",
       "      <td>0</td>\n",
       "      <td>1</td>\n",
       "      <td>0.510</td>\n",
       "      <td>1</td>\n",
       "    </tr>\n",
       "    <tr>\n",
       "      <th>185</th>\n",
       "      <td>44</td>\n",
       "      <td>1</td>\n",
       "      <td>0</td>\n",
       "      <td>112</td>\n",
       "      <td>290</td>\n",
       "      <td>0</td>\n",
       "      <td>0</td>\n",
       "      <td>153</td>\n",
       "      <td>0</td>\n",
       "      <td>0.000</td>\n",
       "      <td>2</td>\n",
       "      <td>1</td>\n",
       "      <td>2</td>\n",
       "      <td>0</td>\n",
       "      <td>1</td>\n",
       "      <td>0.504</td>\n",
       "      <td>1</td>\n",
       "    </tr>\n",
       "    <tr>\n",
       "      <th>259</th>\n",
       "      <td>38</td>\n",
       "      <td>1</td>\n",
       "      <td>3</td>\n",
       "      <td>120</td>\n",
       "      <td>231</td>\n",
       "      <td>0</td>\n",
       "      <td>1</td>\n",
       "      <td>182</td>\n",
       "      <td>1</td>\n",
       "      <td>3.800</td>\n",
       "      <td>1</td>\n",
       "      <td>0</td>\n",
       "      <td>3</td>\n",
       "      <td>0</td>\n",
       "      <td>0</td>\n",
       "      <td>0.480</td>\n",
       "      <td>0</td>\n",
       "    </tr>\n",
       "  </tbody>\n",
       "</table>\n",
       "</div>"
      ],
      "text/plain": [
       "     age  sex  cp  trestbps  chol  fbs  restecg  thalach  exang  oldpeak  \\\n",
       "119   46    0   0       138   243    0        0      152      1    0.000   \n",
       "5     57    1   0       140   192    0        1      148      0    0.400   \n",
       "152   64    1   3       170   227    0        0      155      0    0.600   \n",
       "283   40    1   0       152   223    0        1      181      0    0.000   \n",
       "73    51    1   0       140   261    0        0      186      1    0.000   \n",
       "199   65    1   0       110   248    0        0      158      0    0.600   \n",
       "92    52    1   2       138   223    0        1      169      0    0.000   \n",
       "77    59    1   1       140   221    0        1      164      1    0.000   \n",
       "281   52    1   0       128   204    1        1      156      1    1.000   \n",
       "194   60    1   2       140   185    0        0      155      0    3.000   \n",
       "185   44    1   0       112   290    0        0      153      0    0.000   \n",
       "259   38    1   3       120   231    0        1      182      1    3.800   \n",
       "\n",
       "     slope  ca  thal  target  pred  pred_proba  pred2  \n",
       "119      1   0     2       1     0       0.468      0  \n",
       "5        1   0     1       1     1       0.595      1  \n",
       "152      1   0     3       1     1       0.545      1  \n",
       "283      2   0     3       0     1       0.598      1  \n",
       "73       2   0     2       1     0       0.404      0  \n",
       "199      2   2     1       0     0       0.465      0  \n",
       "92       2   4     2       1     0       0.466      0  \n",
       "77       2   0     2       1     1       0.565      1  \n",
       "281      1   0     0       0     1       0.580      1  \n",
       "194      1   0     2       0     1       0.510      1  \n",
       "185      2   1     2       0     1       0.504      1  \n",
       "259      1   0     3       0     0       0.480      0  "
      ]
     },
     "execution_count": 93,
     "metadata": {},
     "output_type": "execute_result"
    }
   ],
   "source": [
    "test_data[(test_data[\"pred_proba\"]>0.4) & (test_data[\"pred_proba\"]<0.6)]"
   ]
  },
  {
   "cell_type": "code",
   "execution_count": 94,
   "id": "a3476553",
   "metadata": {},
   "outputs": [
    {
     "name": "stdout",
     "output_type": "stream",
     "text": [
      "[[30  5]\n",
      " [ 7 34]]\n",
      "              precision    recall  f1-score   support\n",
      "\n",
      "           0       0.81      0.86      0.83        35\n",
      "           1       0.87      0.83      0.85        41\n",
      "\n",
      "    accuracy                           0.84        76\n",
      "   macro avg       0.84      0.84      0.84        76\n",
      "weighted avg       0.84      0.84      0.84        76\n",
      "\n"
     ]
    }
   ],
   "source": [
    "print(confusion_matrix(y_test,y_pred))\n",
    "print(classification_report(y_test,y_pred))"
   ]
  },
  {
   "cell_type": "code",
   "execution_count": 95,
   "id": "d801c18d",
   "metadata": {},
   "outputs": [],
   "source": [
    "y_pred2 = test_data[\"pred2\"]"
   ]
  },
  {
   "cell_type": "code",
   "execution_count": 96,
   "id": "978ef8c0",
   "metadata": {},
   "outputs": [
    {
     "name": "stdout",
     "output_type": "stream",
     "text": [
      "[[30  5]\n",
      " [ 7 34]]\n",
      "              precision    recall  f1-score   support\n",
      "\n",
      "           0       0.81      0.86      0.83        35\n",
      "           1       0.87      0.83      0.85        41\n",
      "\n",
      "    accuracy                           0.84        76\n",
      "   macro avg       0.84      0.84      0.84        76\n",
      "weighted avg       0.84      0.84      0.84        76\n",
      "\n"
     ]
    }
   ],
   "source": [
    "print(confusion_matrix(y_test,y_pred2))\n",
    "print(classification_report(y_test,y_pred2))"
   ]
  },
  {
   "cell_type": "markdown",
   "id": "uyHR7S4ExKCU",
   "metadata": {
    "id": "uyHR7S4ExKCU"
   },
   "source": [
    "# Implement KNN and Evaluate"
   ]
  },
  {
   "cell_type": "code",
   "execution_count": 97,
   "id": "612bff88-57f4-4d18-88bc-6fc7bb95735f",
   "metadata": {
    "id": "612bff88-57f4-4d18-88bc-6fc7bb95735f"
   },
   "outputs": [],
   "source": [
    "from sklearn.neighbors import KNeighborsClassifier"
   ]
  },
  {
   "cell_type": "code",
   "execution_count": 98,
   "id": "df7d968f",
   "metadata": {},
   "outputs": [],
   "source": [
    "knn_model = KNeighborsClassifier(n_neighbors=5)\n",
    "knn_model.fit(X_train_scaled,y_train)\n",
    "y_pred = knn_model.predict(X_test_scaled)\n",
    "y_pred_proba = knn_model.predict_proba(X_test_scaled)"
   ]
  },
  {
   "cell_type": "code",
   "execution_count": 99,
   "id": "f4226dfe",
   "metadata": {},
   "outputs": [],
   "source": [
    "my_dict = {\"Actual\": y_test, \"Pred\":y_pred, \"Proba_1\":y_pred_proba[:,1], \"Proba_0\":y_pred_proba[:,0]}"
   ]
  },
  {
   "cell_type": "code",
   "execution_count": 100,
   "id": "a29995c9",
   "metadata": {},
   "outputs": [
    {
     "data": {
      "text/html": [
       "<div>\n",
       "<style scoped>\n",
       "    .dataframe tbody tr th:only-of-type {\n",
       "        vertical-align: middle;\n",
       "    }\n",
       "\n",
       "    .dataframe tbody tr th {\n",
       "        vertical-align: top;\n",
       "    }\n",
       "\n",
       "    .dataframe thead th {\n",
       "        text-align: right;\n",
       "    }\n",
       "</style>\n",
       "<table border=\"1\" class=\"dataframe\">\n",
       "  <thead>\n",
       "    <tr style=\"text-align: right;\">\n",
       "      <th></th>\n",
       "      <th>Actual</th>\n",
       "      <th>Pred</th>\n",
       "      <th>Proba_1</th>\n",
       "      <th>Proba_0</th>\n",
       "    </tr>\n",
       "  </thead>\n",
       "  <tbody>\n",
       "    <tr>\n",
       "      <th>139</th>\n",
       "      <td>1</td>\n",
       "      <td>0</td>\n",
       "      <td>0.000</td>\n",
       "      <td>1.000</td>\n",
       "    </tr>\n",
       "    <tr>\n",
       "      <th>59</th>\n",
       "      <td>1</td>\n",
       "      <td>1</td>\n",
       "      <td>0.800</td>\n",
       "      <td>0.200</td>\n",
       "    </tr>\n",
       "    <tr>\n",
       "      <th>132</th>\n",
       "      <td>1</td>\n",
       "      <td>1</td>\n",
       "      <td>1.000</td>\n",
       "      <td>0.000</td>\n",
       "    </tr>\n",
       "    <tr>\n",
       "      <th>252</th>\n",
       "      <td>0</td>\n",
       "      <td>0</td>\n",
       "      <td>0.400</td>\n",
       "      <td>0.600</td>\n",
       "    </tr>\n",
       "    <tr>\n",
       "      <th>283</th>\n",
       "      <td>0</td>\n",
       "      <td>1</td>\n",
       "      <td>0.800</td>\n",
       "      <td>0.200</td>\n",
       "    </tr>\n",
       "    <tr>\n",
       "      <th>232</th>\n",
       "      <td>0</td>\n",
       "      <td>0</td>\n",
       "      <td>0.000</td>\n",
       "      <td>1.000</td>\n",
       "    </tr>\n",
       "    <tr>\n",
       "      <th>152</th>\n",
       "      <td>1</td>\n",
       "      <td>0</td>\n",
       "      <td>0.400</td>\n",
       "      <td>0.600</td>\n",
       "    </tr>\n",
       "    <tr>\n",
       "      <th>285</th>\n",
       "      <td>0</td>\n",
       "      <td>0</td>\n",
       "      <td>0.000</td>\n",
       "      <td>1.000</td>\n",
       "    </tr>\n",
       "    <tr>\n",
       "      <th>177</th>\n",
       "      <td>0</td>\n",
       "      <td>1</td>\n",
       "      <td>0.800</td>\n",
       "      <td>0.200</td>\n",
       "    </tr>\n",
       "    <tr>\n",
       "      <th>22</th>\n",
       "      <td>1</td>\n",
       "      <td>1</td>\n",
       "      <td>1.000</td>\n",
       "      <td>0.000</td>\n",
       "    </tr>\n",
       "  </tbody>\n",
       "</table>\n",
       "</div>"
      ],
      "text/plain": [
       "     Actual  Pred  Proba_1  Proba_0\n",
       "139       1     0    0.000    1.000\n",
       "59        1     1    0.800    0.200\n",
       "132       1     1    1.000    0.000\n",
       "252       0     0    0.400    0.600\n",
       "283       0     1    0.800    0.200\n",
       "232       0     0    0.000    1.000\n",
       "152       1     0    0.400    0.600\n",
       "285       0     0    0.000    1.000\n",
       "177       0     1    0.800    0.200\n",
       "22        1     1    1.000    0.000"
      ]
     },
     "execution_count": 100,
     "metadata": {},
     "output_type": "execute_result"
    }
   ],
   "source": [
    "pd.DataFrame.from_dict(my_dict).sample(10)"
   ]
  },
  {
   "cell_type": "code",
   "execution_count": 101,
   "id": "d487a93d",
   "metadata": {},
   "outputs": [
    {
     "name": "stdout",
     "output_type": "stream",
     "text": [
      "[[30  5]\n",
      " [ 8 33]]\n",
      "              precision    recall  f1-score   support\n",
      "\n",
      "           0       0.79      0.86      0.82        35\n",
      "           1       0.87      0.80      0.84        41\n",
      "\n",
      "    accuracy                           0.83        76\n",
      "   macro avg       0.83      0.83      0.83        76\n",
      "weighted avg       0.83      0.83      0.83        76\n",
      "\n"
     ]
    }
   ],
   "source": [
    "print(confusion_matrix(y_test, y_pred))\n",
    "print(classification_report(y_test, y_pred))"
   ]
  },
  {
   "cell_type": "markdown",
   "id": "ca429520",
   "metadata": {},
   "source": [
    "### Elbow Method for Choosing Reasonable K Values"
   ]
  },
  {
   "cell_type": "code",
   "execution_count": 102,
   "id": "f38b1cb5",
   "metadata": {},
   "outputs": [],
   "source": [
    "test_error_rates = []\n",
    "\n",
    "for k in range(1,30):\n",
    "    knn_model = KNeighborsClassifier(n_neighbors=k)\n",
    "    knn_model.fit(X_train_scaled,y_train) \n",
    "   \n",
    "    y_pred_test = knn_model.predict(X_test_scaled)\n",
    "    \n",
    "    test_error = 1 - recall_score(y_test,y_pred_test)\n",
    "    test_error_rates.append(test_error)"
   ]
  },
  {
   "cell_type": "code",
   "execution_count": 103,
   "id": "c406acbe",
   "metadata": {},
   "outputs": [
    {
     "data": {
      "text/plain": [
       "Text(0, 0.5, 'Error Rate')"
      ]
     },
     "execution_count": 103,
     "metadata": {},
     "output_type": "execute_result"
    },
    {
     "data": {
      "image/png": "[encoded data removed]",
      "text/plain": [
       "<Figure size 1080x576 with 1 Axes>"
      ]
     },
     "metadata": {
      "needs_background": "light"
     },
     "output_type": "display_data"
    }
   ],
   "source": [
    "plt.figure(figsize=(15,8))\n",
    "plt.plot(range(1,30), test_error_rates, color='blue', linestyle='--', marker='o',\n",
    "         markerfacecolor='red', markersize=10)\n",
    "plt.title('Error Rate vs. K Value')\n",
    "plt.xlabel('K_values')\n",
    "plt.ylabel('Error Rate')\n",
    "# Amaç kabul edilebilir hata oranına göre en küçük k değerini seçmek"
   ]
  },
  {
   "cell_type": "code",
   "execution_count": 104,
   "id": "3725b2b5",
   "metadata": {},
   "outputs": [
    {
     "name": "stdout",
     "output_type": "stream",
     "text": [
      "WITH K=1\n",
      "\n",
      "\n",
      "[[30  5]\n",
      " [11 30]]\n",
      "\n",
      "\n",
      "              precision    recall  f1-score   support\n",
      "\n",
      "           0       0.73      0.86      0.79        35\n",
      "           1       0.86      0.73      0.79        41\n",
      "\n",
      "    accuracy                           0.79        76\n",
      "   macro avg       0.79      0.79      0.79        76\n",
      "weighted avg       0.80      0.79      0.79        76\n",
      "\n"
     ]
    }
   ],
   "source": [
    "# FIRST A QUICK COMPARISON TO OUR ORIGINAL K=1\n",
    "knn = KNeighborsClassifier(n_neighbors=1)\n",
    "\n",
    "knn.fit(X_train_scaled,y_train)\n",
    "pred = knn.predict(X_test_scaled)\n",
    "\n",
    "print('WITH K=1')\n",
    "print('\\n')\n",
    "print(confusion_matrix(y_test, pred))\n",
    "print('\\n')\n",
    "print(classification_report(y_test, pred))"
   ]
  },
  {
   "cell_type": "code",
   "execution_count": 105,
   "id": "b519e3f7",
   "metadata": {},
   "outputs": [
    {
     "name": "stdout",
     "output_type": "stream",
     "text": [
      "WITH K=5\n",
      "\n",
      "\n",
      "[[30  5]\n",
      " [ 8 33]]\n",
      "\n",
      "\n",
      "              precision    recall  f1-score   support\n",
      "\n",
      "           0       0.79      0.86      0.82        35\n",
      "           1       0.87      0.80      0.84        41\n",
      "\n",
      "    accuracy                           0.83        76\n",
      "   macro avg       0.83      0.83      0.83        76\n",
      "weighted avg       0.83      0.83      0.83        76\n",
      "\n"
     ]
    }
   ],
   "source": [
    "# NOW WITH K=5\n",
    "knn = KNeighborsClassifier(n_neighbors=5)\n",
    "\n",
    "knn.fit(X_train_scaled,y_train)\n",
    "pred = knn.predict(X_test_scaled)\n",
    "\n",
    "print('WITH K=5')\n",
    "print('\\n')\n",
    "print(confusion_matrix(y_test, pred))\n",
    "print('\\n')\n",
    "print(classification_report(y_test, pred))"
   ]
  },
  {
   "cell_type": "code",
   "execution_count": 106,
   "id": "888ab272",
   "metadata": {},
   "outputs": [
    {
     "name": "stdout",
     "output_type": "stream",
     "text": [
      "WITH K=11\n",
      "\n",
      "\n",
      "[[30  5]\n",
      " [ 8 33]]\n",
      "\n",
      "\n",
      "              precision    recall  f1-score   support\n",
      "\n",
      "           0       0.79      0.86      0.82        35\n",
      "           1       0.87      0.80      0.84        41\n",
      "\n",
      "    accuracy                           0.83        76\n",
      "   macro avg       0.83      0.83      0.83        76\n",
      "weighted avg       0.83      0.83      0.83        76\n",
      "\n"
     ]
    }
   ],
   "source": [
    "# NOW WITH K=11\n",
    "knn_optimal = KNeighborsClassifier(n_neighbors=11)\n",
    "\n",
    "knn_optimal.fit(X_train_scaled,y_train)\n",
    "pred = knn.predict(X_test_scaled)\n",
    "\n",
    "print('WITH K=11')\n",
    "print('\\n')\n",
    "print(confusion_matrix(y_test, pred))\n",
    "print('\\n')\n",
    "print(classification_report(y_test, pred))"
   ]
  },
  {
   "cell_type": "markdown",
   "id": "031eb229",
   "metadata": {},
   "source": [
    "## Cross Validate For Optimal K Value"
   ]
  },
  {
   "cell_type": "code",
   "execution_count": 107,
   "id": "99ede958",
   "metadata": {},
   "outputs": [
    {
     "data": {
      "text/plain": [
       "test_accuracy    0.783\n",
       "test_precision   0.784\n",
       "test_recall      0.837\n",
       "test_f1          0.808\n",
       "dtype: float64"
      ]
     },
     "execution_count": 107,
     "metadata": {},
     "output_type": "execute_result"
    }
   ],
   "source": [
    "model = KNeighborsClassifier(n_neighbors=11)\n",
    "\n",
    "scores = cross_validate(model, X_train_scaled, y_train, scoring = ['accuracy', 'precision','recall',\n",
    "                                                                   'f1'], cv = 10)\n",
    "df_scores = pd.DataFrame(scores, index = range(1, 11))\n",
    "df_scores.mean()[2:]"
   ]
  },
  {
   "cell_type": "markdown",
   "id": "f29e3d1b",
   "metadata": {},
   "source": [
    "## Gridsearch Method for Choosing Reasonable K Values"
   ]
  },
  {
   "cell_type": "code",
   "execution_count": 108,
   "id": "1f6f271f",
   "metadata": {},
   "outputs": [],
   "source": [
    "knn_grid = KNeighborsClassifier()\n",
    "k_values= range(1,30)"
   ]
  },
  {
   "cell_type": "code",
   "execution_count": 109,
   "id": "3795d081",
   "metadata": {},
   "outputs": [],
   "source": [
    "param_grid = {\"n_neighbors\":k_values, \"p\": [1,2], \"weights\": ['uniform', \"distance\"]}\n",
    "knn_grid_model = GridSearchCV(knn_grid, param_grid, cv=10, scoring= 'recall')"
   ]
  },
  {
   "cell_type": "code",
   "execution_count": 110,
   "id": "1b28c478",
   "metadata": {},
   "outputs": [
    {
     "data": {
      "text/plain": [
       "{'n_neighbors': 21, 'p': 1, 'weights': 'uniform'}"
      ]
     },
     "execution_count": 110,
     "metadata": {},
     "output_type": "execute_result"
    }
   ],
   "source": [
    "knn_grid_model.fit(X_train_scaled, y_train)\n",
    "knn_grid_model.best_params_"
   ]
  },
  {
   "cell_type": "code",
   "execution_count": 111,
   "id": "b0e5884f",
   "metadata": {},
   "outputs": [
    {
     "name": "stdout",
     "output_type": "stream",
     "text": [
      "WITH K=11\n",
      "\n",
      "\n",
      "[[30  5]\n",
      " [ 8 33]]\n",
      "\n",
      "\n",
      "              precision    recall  f1-score   support\n",
      "\n",
      "           0       0.79      0.86      0.82        35\n",
      "           1       0.87      0.80      0.84        41\n",
      "\n",
      "    accuracy                           0.83        76\n",
      "   macro avg       0.83      0.83      0.83        76\n",
      "weighted avg       0.83      0.83      0.83        76\n",
      "\n"
     ]
    }
   ],
   "source": [
    "knn_grid_optimal = KNeighborsClassifier(n_neighbors=11, p =1, weights='uniform')\n",
    "\n",
    "knn.fit(X_train_scaled,y_train)\n",
    "pred = knn.predict(X_test_scaled)\n",
    "\n",
    "print('WITH K=11')\n",
    "print('\\n')\n",
    "print(confusion_matrix(y_test, pred))\n",
    "print('\\n')\n",
    "print(classification_report(y_test, pred))"
   ]
  },
  {
   "cell_type": "code",
   "execution_count": 113,
   "id": "0d1e4a3e",
   "metadata": {},
   "outputs": [],
   "source": [
    "knn_grid_optimal = KNeighborsClassifier(n_neighbors=11, p =1, weights='uniform').fit(X_train_scaled, y_train)"
   ]
  },
  {
   "cell_type": "code",
   "execution_count": 114,
   "id": "a997b819",
   "metadata": {},
   "outputs": [
    {
     "data": {
      "image/png": "[encoded data removed]",
      "text/plain": [
       "<Figure size 648x432 with 1 Axes>"
      ]
     },
     "metadata": {
      "needs_background": "light"
     },
     "output_type": "display_data"
    }
   ],
   "source": [
    "plot_roc_curve(knn_grid_optimal, X_test_scaled, y_test);"
   ]
  },
  {
   "cell_type": "markdown",
   "id": "tWSsL9psxaR6",
   "metadata": {
    "id": "tWSsL9psxaR6"
   },
   "source": [
    "# Implement SVM and Evaluate"
   ]
  },
  {
   "cell_type": "code",
   "execution_count": 115,
   "id": "d4f69871-a019-49ab-a082-9d5f6f7020c8",
   "metadata": {
    "id": "d4f69871-a019-49ab-a082-9d5f6f7020c8"
   },
   "outputs": [],
   "source": [
    "from sklearn.svm import SVC"
   ]
  },
  {
   "cell_type": "code",
   "execution_count": 116,
   "id": "a92fa6ae",
   "metadata": {},
   "outputs": [
    {
     "name": "stdout",
     "output_type": "stream",
     "text": [
      "[[30  5]\n",
      " [ 8 33]]\n",
      "              precision    recall  f1-score   support\n",
      "\n",
      "           0       0.79      0.86      0.82        35\n",
      "           1       0.87      0.80      0.84        41\n",
      "\n",
      "    accuracy                           0.83        76\n",
      "   macro avg       0.83      0.83      0.83        76\n",
      "weighted avg       0.83      0.83      0.83        76\n",
      "\n"
     ]
    }
   ],
   "source": [
    "svm_model_scaled = SVC()\n",
    "svm_model_scaled.fit(X_train_scaled, y_train)\n",
    "y_pred = svm_model_scaled.predict(X_test_scaled)\n",
    "print(confusion_matrix(y_test, y_pred))\n",
    "print(classification_report(y_test, y_pred))"
   ]
  },
  {
   "cell_type": "markdown",
   "id": "2ee67784",
   "metadata": {},
   "source": [
    "### Cross Validation"
   ]
  },
  {
   "cell_type": "code",
   "execution_count": 117,
   "id": "4b9b3095",
   "metadata": {},
   "outputs": [
    {
     "data": {
      "text/plain": [
       "test_accuracy    0.836\n",
       "test_precision   0.845\n",
       "test_recall      0.870\n",
       "test_f1          0.854\n",
       "dtype: float64"
      ]
     },
     "execution_count": 117,
     "metadata": {},
     "output_type": "execute_result"
    }
   ],
   "source": [
    "model = SVC(random_state=42)\n",
    "scores = cross_validate(model, X_train_scaled, y_train, scoring = ['accuracy', 'precision','recall','f1'], cv = 10)\n",
    "df_scores = pd.DataFrame(scores, index = range(1, 11))\n",
    "df_scores.mean()[2:]"
   ]
  },
  {
   "cell_type": "markdown",
   "id": "8692843a",
   "metadata": {},
   "source": [
    "### With Best Parameters (GridsearchCV)"
   ]
  },
  {
   "cell_type": "code",
   "execution_count": 118,
   "id": "f6d360cc",
   "metadata": {},
   "outputs": [],
   "source": [
    "param_grid = {'C': [0.1,1, 10, 100, 1000, 5000, 10000],\n",
    "              'gamma': [\"scale\", \"auto\", 1,0.1,0.01,0.001,0.0001],\n",
    "              'kernel': ['rbf', 'linear']}"
   ]
  },
  {
   "cell_type": "code",
   "execution_count": 119,
   "id": "e59ec4ee",
   "metadata": {},
   "outputs": [],
   "source": [
    "model = SVC(random_state=42)\n",
    "svm_model_grid = GridSearchCV(model, param_grid, verbose=3, refit=True)"
   ]
  },
  {
   "cell_type": "code",
   "execution_count": 120,
   "id": "409aa634",
   "metadata": {
    "collapsed": true
   },
   "outputs": [
    {
     "name": "stdout",
     "output_type": "stream",
     "text": [
      "Fitting 5 folds for each of 98 candidates, totalling 490 fits\n",
      "[CV 1/5] END .................C=0.1, gamma=scale, kernel=rbf; total time=   0.0s\n",
      "[CV 2/5] END .................C=0.1, gamma=scale, kernel=rbf; total time=   0.0s\n",
      "[CV 3/5] END .................C=0.1, gamma=scale, kernel=rbf; total time=   0.0s\n",
      "[CV 4/5] END .................C=0.1, gamma=scale, kernel=rbf; total time=   0.0s\n",
      "[CV 5/5] END .................C=0.1, gamma=scale, kernel=rbf; total time=   0.0s\n",
      "[CV 1/5] END ..............C=0.1, gamma=scale, kernel=linear; total time=   0.0s\n",
      "[CV 2/5] END ..............C=0.1, gamma=scale, kernel=linear; total time=   0.0s\n",
      "[CV 3/5] END ..............C=0.1, gamma=scale, kernel=linear; total time=   0.0s\n",
      "[CV 4/5] END ..............C=0.1, gamma=scale, kernel=linear; total time=   0.0s\n",
      "[CV 5/5] END ..............C=0.1, gamma=scale, kernel=linear; total time=   0.0s\n",
      "[CV 1/5] END ..................C=0.1, gamma=auto, kernel=rbf; total time=   0.0s\n",
      "[CV 2/5] END ..................C=0.1, gamma=auto, kernel=rbf; total time=   0.0s\n",
      "[CV 3/5] END ..................C=0.1, gamma=auto, kernel=rbf; total time=   0.0s\n",
      "[CV 4/5] END ..................C=0.1, gamma=auto, kernel=rbf; total time=   0.0s\n",
      "[CV 5/5] END ..................C=0.1, gamma=auto, kernel=rbf; total time=   0.0s\n",
      "[CV 1/5] END ...............C=0.1, gamma=auto, kernel=linear; total time=   0.0s\n",
      "[CV 2/5] END ...............C=0.1, gamma=auto, kernel=linear; total time=   0.0s\n",
      "[CV 3/5] END ...............C=0.1, gamma=auto, kernel=linear; total time=   0.0s\n",
      "[CV 4/5] END ...............C=0.1, gamma=auto, kernel=linear; total time=   0.0s\n",
      "[CV 5/5] END ...............C=0.1, gamma=auto, kernel=linear; total time=   0.0s\n",
      "[CV 1/5] END .....................C=0.1, gamma=1, kernel=rbf; total time=   0.0s\n",
      "[CV 2/5] END .....................C=0.1, gamma=1, kernel=rbf; total time=   0.0s\n",
      "[CV 3/5] END .....................C=0.1, gamma=1, kernel=rbf; total time=   0.0s\n",
      "[CV 4/5] END .....................C=0.1, gamma=1, kernel=rbf; total time=   0.0s\n",
      "[CV 5/5] END .....................C=0.1, gamma=1, kernel=rbf; total time=   0.0s\n",
      "[CV 1/5] END ..................C=0.1, gamma=1, kernel=linear; total time=   0.0s\n",
      "[CV 2/5] END ..................C=0.1, gamma=1, kernel=linear; total time=   0.0s\n",
      "[CV 3/5] END ..................C=0.1, gamma=1, kernel=linear; total time=   0.0s\n",
      "[CV 4/5] END ..................C=0.1, gamma=1, kernel=linear; total time=   0.0s\n",
      "[CV 5/5] END ..................C=0.1, gamma=1, kernel=linear; total time=   0.0s\n",
      "[CV 1/5] END ...................C=0.1, gamma=0.1, kernel=rbf; total time=   0.0s\n",
      "[CV 2/5] END ...................C=0.1, gamma=0.1, kernel=rbf; total time=   0.0s\n",
      "[CV 3/5] END ...................C=0.1, gamma=0.1, kernel=rbf; total time=   0.0s\n",
      "[CV 4/5] END ...................C=0.1, gamma=0.1, kernel=rbf; total time=   0.0s\n",
      "[CV 5/5] END ...................C=0.1, gamma=0.1, kernel=rbf; total time=   0.0s\n",
      "[CV 1/5] END ................C=0.1, gamma=0.1, kernel=linear; total time=   0.0s\n",
      "[CV 2/5] END ................C=0.1, gamma=0.1, kernel=linear; total time=   0.0s\n",
      "[CV 3/5] END ................C=0.1, gamma=0.1, kernel=linear; total time=   0.0s\n",
      "[CV 4/5] END ................C=0.1, gamma=0.1, kernel=linear; total time=   0.0s\n",
      "[CV 5/5] END ................C=0.1, gamma=0.1, kernel=linear; total time=   0.0s\n",
      "[CV 1/5] END ..................C=0.1, gamma=0.01, kernel=rbf; total time=   0.0s\n",
      "[CV 2/5] END ..................C=0.1, gamma=0.01, kernel=rbf; total time=   0.0s\n",
      "[CV 3/5] END ..................C=0.1, gamma=0.01, kernel=rbf; total time=   0.0s\n",
      "[CV 4/5] END ..................C=0.1, gamma=0.01, kernel=rbf; total time=   0.0s\n",
      "[CV 5/5] END ..................C=0.1, gamma=0.01, kernel=rbf; total time=   0.0s\n",
      "[CV 1/5] END ...............C=0.1, gamma=0.01, kernel=linear; total time=   0.0s\n",
      "[CV 2/5] END ...............C=0.1, gamma=0.01, kernel=linear; total time=   0.0s\n",
      "[CV 3/5] END ...............C=0.1, gamma=0.01, kernel=linear; total time=   0.0s\n",
      "[CV 4/5] END ...............C=0.1, gamma=0.01, kernel=linear; total time=   0.0s\n",
      "[CV 5/5] END ...............C=0.1, gamma=0.01, kernel=linear; total time=   0.0s\n",
      "[CV 1/5] END .................C=0.1, gamma=0.001, kernel=rbf; total time=   0.0s\n",
      "[CV 2/5] END .................C=0.1, gamma=0.001, kernel=rbf; total time=   0.0s\n",
      "[CV 3/5] END .................C=0.1, gamma=0.001, kernel=rbf; total time=   0.0s\n",
      "[CV 4/5] END .................C=0.1, gamma=0.001, kernel=rbf; total time=   0.0s\n",
      "[CV 5/5] END .................C=0.1, gamma=0.001, kernel=rbf; total time=   0.0s\n",
      "[CV 1/5] END ..............C=0.1, gamma=0.001, kernel=linear; total time=   0.0s\n",
      "[CV 2/5] END ..............C=0.1, gamma=0.001, kernel=linear; total time=   0.0s\n",
      "[CV 3/5] END ..............C=0.1, gamma=0.001, kernel=linear; total time=   0.0s\n",
      "[CV 4/5] END ..............C=0.1, gamma=0.001, kernel=linear; total time=   0.0s\n",
      "[CV 5/5] END ..............C=0.1, gamma=0.001, kernel=linear; total time=   0.0s\n",
      "[CV 1/5] END ................C=0.1, gamma=0.0001, kernel=rbf; total time=   0.0s\n",
      "[CV 2/5] END ................C=0.1, gamma=0.0001, kernel=rbf; total time=   0.0s\n",
      "[CV 3/5] END ................C=0.1, gamma=0.0001, kernel=rbf; total time=   0.0s\n",
      "[CV 4/5] END ................C=0.1, gamma=0.0001, kernel=rbf; total time=   0.0s\n",
      "[CV 5/5] END ................C=0.1, gamma=0.0001, kernel=rbf; total time=   0.0s\n",
      "[CV 1/5] END .............C=0.1, gamma=0.0001, kernel=linear; total time=   0.0s\n",
      "[CV 2/5] END .............C=0.1, gamma=0.0001, kernel=linear; total time=   0.0s\n",
      "[CV 3/5] END .............C=0.1, gamma=0.0001, kernel=linear; total time=   0.0s\n",
      "[CV 4/5] END .............C=0.1, gamma=0.0001, kernel=linear; total time=   0.0s\n",
      "[CV 5/5] END .............C=0.1, gamma=0.0001, kernel=linear; total time=   0.0s\n",
      "[CV 1/5] END ...................C=1, gamma=scale, kernel=rbf; total time=   0.0s\n",
      "[CV 2/5] END ...................C=1, gamma=scale, kernel=rbf; total time=   0.0s\n",
      "[CV 3/5] END ...................C=1, gamma=scale, kernel=rbf; total time=   0.0s\n",
      "[CV 4/5] END ...................C=1, gamma=scale, kernel=rbf; total time=   0.0s\n",
      "[CV 5/5] END ...................C=1, gamma=scale, kernel=rbf; total time=   0.0s\n",
      "[CV 1/5] END ................C=1, gamma=scale, kernel=linear; total time=   0.0s\n",
      "[CV 2/5] END ................C=1, gamma=scale, kernel=linear; total time=   0.0s\n",
      "[CV 3/5] END ................C=1, gamma=scale, kernel=linear; total time=   0.0s\n",
      "[CV 4/5] END ................C=1, gamma=scale, kernel=linear; total time=   0.0s\n",
      "[CV 5/5] END ................C=1, gamma=scale, kernel=linear; total time=   0.0s\n",
      "[CV 1/5] END ....................C=1, gamma=auto, kernel=rbf; total time=   0.0s\n",
      "[CV 2/5] END ....................C=1, gamma=auto, kernel=rbf; total time=   0.0s\n",
      "[CV 3/5] END ....................C=1, gamma=auto, kernel=rbf; total time=   0.0s\n",
      "[CV 4/5] END ....................C=1, gamma=auto, kernel=rbf; total time=   0.0s\n",
      "[CV 5/5] END ....................C=1, gamma=auto, kernel=rbf; total time=   0.0s\n",
      "[CV 1/5] END .................C=1, gamma=auto, kernel=linear; total time=   0.0s\n",
      "[CV 2/5] END .................C=1, gamma=auto, kernel=linear; total time=   0.0s\n",
      "[CV 3/5] END .................C=1, gamma=auto, kernel=linear; total time=   0.0s\n",
      "[CV 4/5] END .................C=1, gamma=auto, kernel=linear; total time=   0.0s\n",
      "[CV 5/5] END .................C=1, gamma=auto, kernel=linear; total time=   0.0s\n",
      "[CV 1/5] END .......................C=1, gamma=1, kernel=rbf; total time=   0.0s\n",
      "[CV 2/5] END .......................C=1, gamma=1, kernel=rbf; total time=   0.0s\n",
      "[CV 3/5] END .......................C=1, gamma=1, kernel=rbf; total time=   0.0s\n",
      "[CV 4/5] END .......................C=1, gamma=1, kernel=rbf; total time=   0.0s\n",
      "[CV 5/5] END .......................C=1, gamma=1, kernel=rbf; total time=   0.0s\n",
      "[CV 1/5] END ....................C=1, gamma=1, kernel=linear; total time=   0.0s\n",
      "[CV 2/5] END ....................C=1, gamma=1, kernel=linear; total time=   0.0s\n",
      "[CV 3/5] END ....................C=1, gamma=1, kernel=linear; total time=   0.0s\n",
      "[CV 4/5] END ....................C=1, gamma=1, kernel=linear; total time=   0.0s\n",
      "[CV 5/5] END ....................C=1, gamma=1, kernel=linear; total time=   0.0s\n",
      "[CV 1/5] END .....................C=1, gamma=0.1, kernel=rbf; total time=   0.0s\n",
      "[CV 2/5] END .....................C=1, gamma=0.1, kernel=rbf; total time=   0.0s\n",
      "[CV 3/5] END .....................C=1, gamma=0.1, kernel=rbf; total time=   0.0s\n",
      "[CV 4/5] END .....................C=1, gamma=0.1, kernel=rbf; total time=   0.0s\n",
      "[CV 5/5] END .....................C=1, gamma=0.1, kernel=rbf; total time=   0.0s\n",
      "[CV 1/5] END ..................C=1, gamma=0.1, kernel=linear; total time=   0.0s\n",
      "[CV 2/5] END ..................C=1, gamma=0.1, kernel=linear; total time=   0.0s\n",
      "[CV 3/5] END ..................C=1, gamma=0.1, kernel=linear; total time=   0.0s\n",
      "[CV 4/5] END ..................C=1, gamma=0.1, kernel=linear; total time=   0.0s\n",
      "[CV 5/5] END ..................C=1, gamma=0.1, kernel=linear; total time=   0.0s\n",
      "[CV 1/5] END ....................C=1, gamma=0.01, kernel=rbf; total time=   0.0s\n",
      "[CV 2/5] END ....................C=1, gamma=0.01, kernel=rbf; total time=   0.0s\n",
      "[CV 3/5] END ....................C=1, gamma=0.01, kernel=rbf; total time=   0.0s\n",
      "[CV 4/5] END ....................C=1, gamma=0.01, kernel=rbf; total time=   0.0s\n",
      "[CV 5/5] END ....................C=1, gamma=0.01, kernel=rbf; total time=   0.0s\n",
      "[CV 1/5] END .................C=1, gamma=0.01, kernel=linear; total time=   0.0s\n",
      "[CV 2/5] END .................C=1, gamma=0.01, kernel=linear; total time=   0.0s\n",
      "[CV 3/5] END .................C=1, gamma=0.01, kernel=linear; total time=   0.0s\n",
      "[CV 4/5] END .................C=1, gamma=0.01, kernel=linear; total time=   0.0s\n",
      "[CV 5/5] END .................C=1, gamma=0.01, kernel=linear; total time=   0.0s\n",
      "[CV 1/5] END ...................C=1, gamma=0.001, kernel=rbf; total time=   0.0s\n",
      "[CV 2/5] END ...................C=1, gamma=0.001, kernel=rbf; total time=   0.0s\n",
      "[CV 3/5] END ...................C=1, gamma=0.001, kernel=rbf; total time=   0.0s\n",
      "[CV 4/5] END ...................C=1, gamma=0.001, kernel=rbf; total time=   0.0s\n",
      "[CV 5/5] END ...................C=1, gamma=0.001, kernel=rbf; total time=   0.0s\n",
      "[CV 1/5] END ................C=1, gamma=0.001, kernel=linear; total time=   0.0s\n",
      "[CV 2/5] END ................C=1, gamma=0.001, kernel=linear; total time=   0.0s\n",
      "[CV 3/5] END ................C=1, gamma=0.001, kernel=linear; total time=   0.0s\n",
      "[CV 4/5] END ................C=1, gamma=0.001, kernel=linear; total time=   0.0s\n",
      "[CV 5/5] END ................C=1, gamma=0.001, kernel=linear; total time=   0.0s\n",
      "[CV 1/5] END ..................C=1, gamma=0.0001, kernel=rbf; total time=   0.0s\n",
      "[CV 2/5] END ..................C=1, gamma=0.0001, kernel=rbf; total time=   0.0s\n",
      "[CV 3/5] END ..................C=1, gamma=0.0001, kernel=rbf; total time=   0.0s\n",
      "[CV 4/5] END ..................C=1, gamma=0.0001, kernel=rbf; total time=   0.0s\n",
      "[CV 5/5] END ..................C=1, gamma=0.0001, kernel=rbf; total time=   0.0s\n",
      "[CV 1/5] END ...............C=1, gamma=0.0001, kernel=linear; total time=   0.0s\n",
      "[CV 2/5] END ...............C=1, gamma=0.0001, kernel=linear; total time=   0.0s\n",
      "[CV 3/5] END ...............C=1, gamma=0.0001, kernel=linear; total time=   0.0s\n",
      "[CV 4/5] END ...............C=1, gamma=0.0001, kernel=linear; total time=   0.0s\n",
      "[CV 5/5] END ...............C=1, gamma=0.0001, kernel=linear; total time=   0.0s\n",
      "[CV 1/5] END ..................C=10, gamma=scale, kernel=rbf; total time=   0.0s\n"
     ]
    },
    {
     "name": "stdout",
     "output_type": "stream",
     "text": [
      "[CV 2/5] END ..................C=10, gamma=scale, kernel=rbf; total time=   0.0s\n",
      "[CV 3/5] END ..................C=10, gamma=scale, kernel=rbf; total time=   0.0s\n",
      "[CV 4/5] END ..................C=10, gamma=scale, kernel=rbf; total time=   0.0s\n",
      "[CV 5/5] END ..................C=10, gamma=scale, kernel=rbf; total time=   0.0s\n",
      "[CV 1/5] END ...............C=10, gamma=scale, kernel=linear; total time=   0.0s\n",
      "[CV 2/5] END ...............C=10, gamma=scale, kernel=linear; total time=   0.0s\n",
      "[CV 3/5] END ...............C=10, gamma=scale, kernel=linear; total time=   0.0s\n",
      "[CV 4/5] END ...............C=10, gamma=scale, kernel=linear; total time=   0.0s\n",
      "[CV 5/5] END ...............C=10, gamma=scale, kernel=linear; total time=   0.0s\n",
      "[CV 1/5] END ...................C=10, gamma=auto, kernel=rbf; total time=   0.0s\n",
      "[CV 2/5] END ...................C=10, gamma=auto, kernel=rbf; total time=   0.0s\n",
      "[CV 3/5] END ...................C=10, gamma=auto, kernel=rbf; total time=   0.0s\n",
      "[CV 4/5] END ...................C=10, gamma=auto, kernel=rbf; total time=   0.0s\n",
      "[CV 5/5] END ...................C=10, gamma=auto, kernel=rbf; total time=   0.0s\n",
      "[CV 1/5] END ................C=10, gamma=auto, kernel=linear; total time=   0.0s\n",
      "[CV 2/5] END ................C=10, gamma=auto, kernel=linear; total time=   0.0s\n",
      "[CV 3/5] END ................C=10, gamma=auto, kernel=linear; total time=   0.0s\n",
      "[CV 4/5] END ................C=10, gamma=auto, kernel=linear; total time=   0.0s\n",
      "[CV 5/5] END ................C=10, gamma=auto, kernel=linear; total time=   0.0s\n",
      "[CV 1/5] END ......................C=10, gamma=1, kernel=rbf; total time=   0.0s\n",
      "[CV 2/5] END ......................C=10, gamma=1, kernel=rbf; total time=   0.0s\n",
      "[CV 3/5] END ......................C=10, gamma=1, kernel=rbf; total time=   0.0s\n",
      "[CV 4/5] END ......................C=10, gamma=1, kernel=rbf; total time=   0.0s\n",
      "[CV 5/5] END ......................C=10, gamma=1, kernel=rbf; total time=   0.0s\n",
      "[CV 1/5] END ...................C=10, gamma=1, kernel=linear; total time=   0.0s\n",
      "[CV 2/5] END ...................C=10, gamma=1, kernel=linear; total time=   0.0s\n",
      "[CV 3/5] END ...................C=10, gamma=1, kernel=linear; total time=   0.0s\n",
      "[CV 4/5] END ...................C=10, gamma=1, kernel=linear; total time=   0.0s\n",
      "[CV 5/5] END ...................C=10, gamma=1, kernel=linear; total time=   0.0s\n",
      "[CV 1/5] END ....................C=10, gamma=0.1, kernel=rbf; total time=   0.0s\n",
      "[CV 2/5] END ....................C=10, gamma=0.1, kernel=rbf; total time=   0.0s\n",
      "[CV 3/5] END ....................C=10, gamma=0.1, kernel=rbf; total time=   0.0s\n",
      "[CV 4/5] END ....................C=10, gamma=0.1, kernel=rbf; total time=   0.0s\n",
      "[CV 5/5] END ....................C=10, gamma=0.1, kernel=rbf; total time=   0.0s\n",
      "[CV 1/5] END .................C=10, gamma=0.1, kernel=linear; total time=   0.0s\n",
      "[CV 2/5] END .................C=10, gamma=0.1, kernel=linear; total time=   0.0s\n",
      "[CV 3/5] END .................C=10, gamma=0.1, kernel=linear; total time=   0.0s\n",
      "[CV 4/5] END .................C=10, gamma=0.1, kernel=linear; total time=   0.0s\n",
      "[CV 5/5] END .................C=10, gamma=0.1, kernel=linear; total time=   0.0s\n",
      "[CV 1/5] END ...................C=10, gamma=0.01, kernel=rbf; total time=   0.0s\n",
      "[CV 2/5] END ...................C=10, gamma=0.01, kernel=rbf; total time=   0.0s\n",
      "[CV 3/5] END ...................C=10, gamma=0.01, kernel=rbf; total time=   0.0s\n",
      "[CV 4/5] END ...................C=10, gamma=0.01, kernel=rbf; total time=   0.0s\n",
      "[CV 5/5] END ...................C=10, gamma=0.01, kernel=rbf; total time=   0.0s\n",
      "[CV 1/5] END ................C=10, gamma=0.01, kernel=linear; total time=   0.0s\n",
      "[CV 2/5] END ................C=10, gamma=0.01, kernel=linear; total time=   0.0s\n",
      "[CV 3/5] END ................C=10, gamma=0.01, kernel=linear; total time=   0.0s\n",
      "[CV 4/5] END ................C=10, gamma=0.01, kernel=linear; total time=   0.0s\n",
      "[CV 5/5] END ................C=10, gamma=0.01, kernel=linear; total time=   0.0s\n",
      "[CV 1/5] END ..................C=10, gamma=0.001, kernel=rbf; total time=   0.0s\n",
      "[CV 2/5] END ..................C=10, gamma=0.001, kernel=rbf; total time=   0.0s\n",
      "[CV 3/5] END ..................C=10, gamma=0.001, kernel=rbf; total time=   0.0s\n",
      "[CV 4/5] END ..................C=10, gamma=0.001, kernel=rbf; total time=   0.0s\n",
      "[CV 5/5] END ..................C=10, gamma=0.001, kernel=rbf; total time=   0.0s\n",
      "[CV 1/5] END ...............C=10, gamma=0.001, kernel=linear; total time=   0.0s\n",
      "[CV 2/5] END ...............C=10, gamma=0.001, kernel=linear; total time=   0.0s\n",
      "[CV 3/5] END ...............C=10, gamma=0.001, kernel=linear; total time=   0.0s\n",
      "[CV 4/5] END ...............C=10, gamma=0.001, kernel=linear; total time=   0.0s\n",
      "[CV 5/5] END ...............C=10, gamma=0.001, kernel=linear; total time=   0.0s\n",
      "[CV 1/5] END .................C=10, gamma=0.0001, kernel=rbf; total time=   0.0s\n",
      "[CV 2/5] END .................C=10, gamma=0.0001, kernel=rbf; total time=   0.0s\n",
      "[CV 3/5] END .................C=10, gamma=0.0001, kernel=rbf; total time=   0.0s\n",
      "[CV 4/5] END .................C=10, gamma=0.0001, kernel=rbf; total time=   0.0s\n",
      "[CV 5/5] END .................C=10, gamma=0.0001, kernel=rbf; total time=   0.0s\n",
      "[CV 1/5] END ..............C=10, gamma=0.0001, kernel=linear; total time=   0.0s\n",
      "[CV 2/5] END ..............C=10, gamma=0.0001, kernel=linear; total time=   0.0s\n",
      "[CV 3/5] END ..............C=10, gamma=0.0001, kernel=linear; total time=   0.0s\n",
      "[CV 4/5] END ..............C=10, gamma=0.0001, kernel=linear; total time=   0.0s\n",
      "[CV 5/5] END ..............C=10, gamma=0.0001, kernel=linear; total time=   0.0s\n",
      "[CV 1/5] END .................C=100, gamma=scale, kernel=rbf; total time=   0.0s\n",
      "[CV 2/5] END .................C=100, gamma=scale, kernel=rbf; total time=   0.0s\n",
      "[CV 3/5] END .................C=100, gamma=scale, kernel=rbf; total time=   0.0s\n",
      "[CV 4/5] END .................C=100, gamma=scale, kernel=rbf; total time=   0.0s\n",
      "[CV 5/5] END .................C=100, gamma=scale, kernel=rbf; total time=   0.0s\n",
      "[CV 1/5] END ..............C=100, gamma=scale, kernel=linear; total time=   0.0s\n",
      "[CV 2/5] END ..............C=100, gamma=scale, kernel=linear; total time=   0.0s\n",
      "[CV 3/5] END ..............C=100, gamma=scale, kernel=linear; total time=   0.0s\n",
      "[CV 4/5] END ..............C=100, gamma=scale, kernel=linear; total time=   0.0s\n",
      "[CV 5/5] END ..............C=100, gamma=scale, kernel=linear; total time=   0.0s\n",
      "[CV 1/5] END ..................C=100, gamma=auto, kernel=rbf; total time=   0.0s\n",
      "[CV 2/5] END ..................C=100, gamma=auto, kernel=rbf; total time=   0.0s\n",
      "[CV 3/5] END ..................C=100, gamma=auto, kernel=rbf; total time=   0.0s\n",
      "[CV 4/5] END ..................C=100, gamma=auto, kernel=rbf; total time=   0.0s\n",
      "[CV 5/5] END ..................C=100, gamma=auto, kernel=rbf; total time=   0.0s\n",
      "[CV 1/5] END ...............C=100, gamma=auto, kernel=linear; total time=   0.0s\n",
      "[CV 2/5] END ...............C=100, gamma=auto, kernel=linear; total time=   0.0s\n",
      "[CV 3/5] END ...............C=100, gamma=auto, kernel=linear; total time=   0.0s\n",
      "[CV 4/5] END ...............C=100, gamma=auto, kernel=linear; total time=   0.0s\n",
      "[CV 5/5] END ...............C=100, gamma=auto, kernel=linear; total time=   0.0s\n",
      "[CV 1/5] END .....................C=100, gamma=1, kernel=rbf; total time=   0.0s\n",
      "[CV 2/5] END .....................C=100, gamma=1, kernel=rbf; total time=   0.0s\n",
      "[CV 3/5] END .....................C=100, gamma=1, kernel=rbf; total time=   0.0s\n",
      "[CV 4/5] END .....................C=100, gamma=1, kernel=rbf; total time=   0.0s\n",
      "[CV 5/5] END .....................C=100, gamma=1, kernel=rbf; total time=   0.0s\n",
      "[CV 1/5] END ..................C=100, gamma=1, kernel=linear; total time=   0.0s\n",
      "[CV 2/5] END ..................C=100, gamma=1, kernel=linear; total time=   0.0s\n",
      "[CV 3/5] END ..................C=100, gamma=1, kernel=linear; total time=   0.0s\n",
      "[CV 4/5] END ..................C=100, gamma=1, kernel=linear; total time=   0.0s\n",
      "[CV 5/5] END ..................C=100, gamma=1, kernel=linear; total time=   0.0s\n",
      "[CV 1/5] END ...................C=100, gamma=0.1, kernel=rbf; total time=   0.0s\n",
      "[CV 2/5] END ...................C=100, gamma=0.1, kernel=rbf; total time=   0.0s\n",
      "[CV 3/5] END ...................C=100, gamma=0.1, kernel=rbf; total time=   0.0s\n",
      "[CV 4/5] END ...................C=100, gamma=0.1, kernel=rbf; total time=   0.0s\n",
      "[CV 5/5] END ...................C=100, gamma=0.1, kernel=rbf; total time=   0.0s\n",
      "[CV 1/5] END ................C=100, gamma=0.1, kernel=linear; total time=   0.0s\n",
      "[CV 2/5] END ................C=100, gamma=0.1, kernel=linear; total time=   0.0s\n",
      "[CV 3/5] END ................C=100, gamma=0.1, kernel=linear; total time=   0.0s\n",
      "[CV 4/5] END ................C=100, gamma=0.1, kernel=linear; total time=   0.0s\n",
      "[CV 5/5] END ................C=100, gamma=0.1, kernel=linear; total time=   0.0s\n",
      "[CV 1/5] END ..................C=100, gamma=0.01, kernel=rbf; total time=   0.0s\n",
      "[CV 2/5] END ..................C=100, gamma=0.01, kernel=rbf; total time=   0.0s\n",
      "[CV 3/5] END ..................C=100, gamma=0.01, kernel=rbf; total time=   0.0s\n",
      "[CV 4/5] END ..................C=100, gamma=0.01, kernel=rbf; total time=   0.0s\n",
      "[CV 5/5] END ..................C=100, gamma=0.01, kernel=rbf; total time=   0.0s\n",
      "[CV 1/5] END ...............C=100, gamma=0.01, kernel=linear; total time=   0.0s\n",
      "[CV 2/5] END ...............C=100, gamma=0.01, kernel=linear; total time=   0.0s\n"
     ]
    },
    {
     "name": "stdout",
     "output_type": "stream",
     "text": [
      "[CV 3/5] END ...............C=100, gamma=0.01, kernel=linear; total time=   0.0s\n",
      "[CV 4/5] END ...............C=100, gamma=0.01, kernel=linear; total time=   0.0s\n",
      "[CV 5/5] END ...............C=100, gamma=0.01, kernel=linear; total time=   0.0s\n",
      "[CV 1/5] END .................C=100, gamma=0.001, kernel=rbf; total time=   0.0s\n",
      "[CV 2/5] END .................C=100, gamma=0.001, kernel=rbf; total time=   0.0s\n",
      "[CV 3/5] END .................C=100, gamma=0.001, kernel=rbf; total time=   0.0s\n",
      "[CV 4/5] END .................C=100, gamma=0.001, kernel=rbf; total time=   0.0s\n",
      "[CV 5/5] END .................C=100, gamma=0.001, kernel=rbf; total time=   0.0s\n",
      "[CV 1/5] END ..............C=100, gamma=0.001, kernel=linear; total time=   0.0s\n",
      "[CV 2/5] END ..............C=100, gamma=0.001, kernel=linear; total time=   0.0s\n",
      "[CV 3/5] END ..............C=100, gamma=0.001, kernel=linear; total time=   0.0s\n",
      "[CV 4/5] END ..............C=100, gamma=0.001, kernel=linear; total time=   0.0s\n",
      "[CV 5/5] END ..............C=100, gamma=0.001, kernel=linear; total time=   0.0s\n",
      "[CV 1/5] END ................C=100, gamma=0.0001, kernel=rbf; total time=   0.0s\n",
      "[CV 2/5] END ................C=100, gamma=0.0001, kernel=rbf; total time=   0.0s\n",
      "[CV 3/5] END ................C=100, gamma=0.0001, kernel=rbf; total time=   0.0s\n",
      "[CV 4/5] END ................C=100, gamma=0.0001, kernel=rbf; total time=   0.0s\n",
      "[CV 5/5] END ................C=100, gamma=0.0001, kernel=rbf; total time=   0.0s\n",
      "[CV 1/5] END .............C=100, gamma=0.0001, kernel=linear; total time=   0.0s\n",
      "[CV 2/5] END .............C=100, gamma=0.0001, kernel=linear; total time=   0.0s\n",
      "[CV 3/5] END .............C=100, gamma=0.0001, kernel=linear; total time=   0.0s\n",
      "[CV 4/5] END .............C=100, gamma=0.0001, kernel=linear; total time=   0.0s\n",
      "[CV 5/5] END .............C=100, gamma=0.0001, kernel=linear; total time=   0.0s\n",
      "[CV 1/5] END ................C=1000, gamma=scale, kernel=rbf; total time=   0.0s\n",
      "[CV 2/5] END ................C=1000, gamma=scale, kernel=rbf; total time=   0.0s\n",
      "[CV 3/5] END ................C=1000, gamma=scale, kernel=rbf; total time=   0.0s\n",
      "[CV 4/5] END ................C=1000, gamma=scale, kernel=rbf; total time=   0.0s\n",
      "[CV 5/5] END ................C=1000, gamma=scale, kernel=rbf; total time=   0.0s\n",
      "[CV 1/5] END .............C=1000, gamma=scale, kernel=linear; total time=   0.0s\n",
      "[CV 2/5] END .............C=1000, gamma=scale, kernel=linear; total time=   0.0s\n",
      "[CV 3/5] END .............C=1000, gamma=scale, kernel=linear; total time=   0.0s\n",
      "[CV 4/5] END .............C=1000, gamma=scale, kernel=linear; total time=   0.0s\n",
      "[CV 5/5] END .............C=1000, gamma=scale, kernel=linear; total time=   0.0s\n",
      "[CV 1/5] END .................C=1000, gamma=auto, kernel=rbf; total time=   0.0s\n",
      "[CV 2/5] END .................C=1000, gamma=auto, kernel=rbf; total time=   0.0s\n",
      "[CV 3/5] END .................C=1000, gamma=auto, kernel=rbf; total time=   0.0s\n",
      "[CV 4/5] END .................C=1000, gamma=auto, kernel=rbf; total time=   0.0s\n",
      "[CV 5/5] END .................C=1000, gamma=auto, kernel=rbf; total time=   0.0s\n",
      "[CV 1/5] END ..............C=1000, gamma=auto, kernel=linear; total time=   0.0s\n",
      "[CV 2/5] END ..............C=1000, gamma=auto, kernel=linear; total time=   0.0s\n",
      "[CV 3/5] END ..............C=1000, gamma=auto, kernel=linear; total time=   0.0s\n",
      "[CV 4/5] END ..............C=1000, gamma=auto, kernel=linear; total time=   0.0s\n",
      "[CV 5/5] END ..............C=1000, gamma=auto, kernel=linear; total time=   0.0s\n",
      "[CV 1/5] END ....................C=1000, gamma=1, kernel=rbf; total time=   0.0s\n",
      "[CV 2/5] END ....................C=1000, gamma=1, kernel=rbf; total time=   0.0s\n",
      "[CV 3/5] END ....................C=1000, gamma=1, kernel=rbf; total time=   0.0s\n",
      "[CV 4/5] END ....................C=1000, gamma=1, kernel=rbf; total time=   0.0s\n",
      "[CV 5/5] END ....................C=1000, gamma=1, kernel=rbf; total time=   0.0s\n",
      "[CV 1/5] END .................C=1000, gamma=1, kernel=linear; total time=   0.0s\n",
      "[CV 2/5] END .................C=1000, gamma=1, kernel=linear; total time=   0.0s\n",
      "[CV 3/5] END .................C=1000, gamma=1, kernel=linear; total time=   0.0s\n",
      "[CV 4/5] END .................C=1000, gamma=1, kernel=linear; total time=   0.0s\n",
      "[CV 5/5] END .................C=1000, gamma=1, kernel=linear; total time=   0.0s\n",
      "[CV 1/5] END ..................C=1000, gamma=0.1, kernel=rbf; total time=   0.0s\n",
      "[CV 2/5] END ..................C=1000, gamma=0.1, kernel=rbf; total time=   0.0s\n",
      "[CV 3/5] END ..................C=1000, gamma=0.1, kernel=rbf; total time=   0.0s\n",
      "[CV 4/5] END ..................C=1000, gamma=0.1, kernel=rbf; total time=   0.0s\n",
      "[CV 5/5] END ..................C=1000, gamma=0.1, kernel=rbf; total time=   0.0s\n",
      "[CV 1/5] END ...............C=1000, gamma=0.1, kernel=linear; total time=   0.0s\n",
      "[CV 2/5] END ...............C=1000, gamma=0.1, kernel=linear; total time=   0.0s\n",
      "[CV 3/5] END ...............C=1000, gamma=0.1, kernel=linear; total time=   0.0s\n",
      "[CV 4/5] END ...............C=1000, gamma=0.1, kernel=linear; total time=   0.0s\n",
      "[CV 5/5] END ...............C=1000, gamma=0.1, kernel=linear; total time=   0.0s\n",
      "[CV 1/5] END .................C=1000, gamma=0.01, kernel=rbf; total time=   0.0s\n",
      "[CV 2/5] END .................C=1000, gamma=0.01, kernel=rbf; total time=   0.0s\n",
      "[CV 3/5] END .................C=1000, gamma=0.01, kernel=rbf; total time=   0.0s\n",
      "[CV 4/5] END .................C=1000, gamma=0.01, kernel=rbf; total time=   0.0s\n",
      "[CV 5/5] END .................C=1000, gamma=0.01, kernel=rbf; total time=   0.0s\n",
      "[CV 1/5] END ..............C=1000, gamma=0.01, kernel=linear; total time=   0.0s\n",
      "[CV 2/5] END ..............C=1000, gamma=0.01, kernel=linear; total time=   0.0s\n",
      "[CV 3/5] END ..............C=1000, gamma=0.01, kernel=linear; total time=   0.0s\n",
      "[CV 4/5] END ..............C=1000, gamma=0.01, kernel=linear; total time=   0.0s\n",
      "[CV 5/5] END ..............C=1000, gamma=0.01, kernel=linear; total time=   0.0s\n",
      "[CV 1/5] END ................C=1000, gamma=0.001, kernel=rbf; total time=   0.0s\n",
      "[CV 2/5] END ................C=1000, gamma=0.001, kernel=rbf; total time=   0.0s\n",
      "[CV 3/5] END ................C=1000, gamma=0.001, kernel=rbf; total time=   0.0s\n",
      "[CV 4/5] END ................C=1000, gamma=0.001, kernel=rbf; total time=   0.0s\n",
      "[CV 5/5] END ................C=1000, gamma=0.001, kernel=rbf; total time=   0.0s\n",
      "[CV 1/5] END .............C=1000, gamma=0.001, kernel=linear; total time=   0.0s\n",
      "[CV 2/5] END .............C=1000, gamma=0.001, kernel=linear; total time=   0.0s\n",
      "[CV 3/5] END .............C=1000, gamma=0.001, kernel=linear; total time=   0.0s\n",
      "[CV 4/5] END .............C=1000, gamma=0.001, kernel=linear; total time=   0.0s\n",
      "[CV 5/5] END .............C=1000, gamma=0.001, kernel=linear; total time=   0.0s\n",
      "[CV 1/5] END ...............C=1000, gamma=0.0001, kernel=rbf; total time=   0.0s\n",
      "[CV 2/5] END ...............C=1000, gamma=0.0001, kernel=rbf; total time=   0.0s\n",
      "[CV 3/5] END ...............C=1000, gamma=0.0001, kernel=rbf; total time=   0.0s\n",
      "[CV 4/5] END ...............C=1000, gamma=0.0001, kernel=rbf; total time=   0.0s\n",
      "[CV 5/5] END ...............C=1000, gamma=0.0001, kernel=rbf; total time=   0.0s\n",
      "[CV 1/5] END ............C=1000, gamma=0.0001, kernel=linear; total time=   0.0s\n",
      "[CV 2/5] END ............C=1000, gamma=0.0001, kernel=linear; total time=   0.0s\n",
      "[CV 3/5] END ............C=1000, gamma=0.0001, kernel=linear; total time=   0.0s\n",
      "[CV 4/5] END ............C=1000, gamma=0.0001, kernel=linear; total time=   0.0s\n",
      "[CV 5/5] END ............C=1000, gamma=0.0001, kernel=linear; total time=   0.0s\n",
      "[CV 1/5] END ................C=5000, gamma=scale, kernel=rbf; total time=   0.0s\n",
      "[CV 2/5] END ................C=5000, gamma=scale, kernel=rbf; total time=   0.0s\n",
      "[CV 3/5] END ................C=5000, gamma=scale, kernel=rbf; total time=   0.0s\n",
      "[CV 4/5] END ................C=5000, gamma=scale, kernel=rbf; total time=   0.0s\n",
      "[CV 5/5] END ................C=5000, gamma=scale, kernel=rbf; total time=   0.0s\n",
      "[CV 1/5] END .............C=5000, gamma=scale, kernel=linear; total time=   0.3s\n",
      "[CV 2/5] END .............C=5000, gamma=scale, kernel=linear; total time=   0.2s\n",
      "[CV 3/5] END .............C=5000, gamma=scale, kernel=linear; total time=   0.4s\n",
      "[CV 4/5] END .............C=5000, gamma=scale, kernel=linear; total time=   0.3s\n",
      "[CV 5/5] END .............C=5000, gamma=scale, kernel=linear; total time=   0.1s\n",
      "[CV 1/5] END .................C=5000, gamma=auto, kernel=rbf; total time=   0.0s\n",
      "[CV 2/5] END .................C=5000, gamma=auto, kernel=rbf; total time=   0.0s\n",
      "[CV 3/5] END .................C=5000, gamma=auto, kernel=rbf; total time=   0.0s\n",
      "[CV 4/5] END .................C=5000, gamma=auto, kernel=rbf; total time=   0.0s\n",
      "[CV 5/5] END .................C=5000, gamma=auto, kernel=rbf; total time=   0.0s\n"
     ]
    },
    {
     "name": "stdout",
     "output_type": "stream",
     "text": [
      "[CV 1/5] END ..............C=5000, gamma=auto, kernel=linear; total time=   0.3s\n",
      "[CV 2/5] END ..............C=5000, gamma=auto, kernel=linear; total time=   0.2s\n",
      "[CV 3/5] END ..............C=5000, gamma=auto, kernel=linear; total time=   0.4s\n",
      "[CV 4/5] END ..............C=5000, gamma=auto, kernel=linear; total time=   0.3s\n",
      "[CV 5/5] END ..............C=5000, gamma=auto, kernel=linear; total time=   0.0s\n",
      "[CV 1/5] END ....................C=5000, gamma=1, kernel=rbf; total time=   0.0s\n",
      "[CV 2/5] END ....................C=5000, gamma=1, kernel=rbf; total time=   0.0s\n",
      "[CV 3/5] END ....................C=5000, gamma=1, kernel=rbf; total time=   0.0s\n",
      "[CV 4/5] END ....................C=5000, gamma=1, kernel=rbf; total time=   0.0s\n",
      "[CV 5/5] END ....................C=5000, gamma=1, kernel=rbf; total time=   0.0s\n",
      "[CV 1/5] END .................C=5000, gamma=1, kernel=linear; total time=   0.3s\n",
      "[CV 2/5] END .................C=5000, gamma=1, kernel=linear; total time=   0.2s\n",
      "[CV 3/5] END .................C=5000, gamma=1, kernel=linear; total time=   0.4s\n",
      "[CV 4/5] END .................C=5000, gamma=1, kernel=linear; total time=   0.3s\n",
      "[CV 5/5] END .................C=5000, gamma=1, kernel=linear; total time=   0.0s\n",
      "[CV 1/5] END ..................C=5000, gamma=0.1, kernel=rbf; total time=   0.0s\n",
      "[CV 2/5] END ..................C=5000, gamma=0.1, kernel=rbf; total time=   0.0s\n",
      "[CV 3/5] END ..................C=5000, gamma=0.1, kernel=rbf; total time=   0.0s\n",
      "[CV 4/5] END ..................C=5000, gamma=0.1, kernel=rbf; total time=   0.0s\n",
      "[CV 5/5] END ..................C=5000, gamma=0.1, kernel=rbf; total time=   0.0s\n",
      "[CV 1/5] END ...............C=5000, gamma=0.1, kernel=linear; total time=   0.3s\n",
      "[CV 2/5] END ...............C=5000, gamma=0.1, kernel=linear; total time=   0.2s\n",
      "[CV 3/5] END ...............C=5000, gamma=0.1, kernel=linear; total time=   0.4s\n",
      "[CV 4/5] END ...............C=5000, gamma=0.1, kernel=linear; total time=   0.3s\n",
      "[CV 5/5] END ...............C=5000, gamma=0.1, kernel=linear; total time=   0.1s\n",
      "[CV 1/5] END .................C=5000, gamma=0.01, kernel=rbf; total time=   0.0s\n",
      "[CV 2/5] END .................C=5000, gamma=0.01, kernel=rbf; total time=   0.0s\n",
      "[CV 3/5] END .................C=5000, gamma=0.01, kernel=rbf; total time=   0.0s\n",
      "[CV 4/5] END .................C=5000, gamma=0.01, kernel=rbf; total time=   0.0s\n",
      "[CV 5/5] END .................C=5000, gamma=0.01, kernel=rbf; total time=   0.0s\n",
      "[CV 1/5] END ..............C=5000, gamma=0.01, kernel=linear; total time=   0.3s\n",
      "[CV 2/5] END ..............C=5000, gamma=0.01, kernel=linear; total time=   0.2s\n",
      "[CV 3/5] END ..............C=5000, gamma=0.01, kernel=linear; total time=   0.4s\n",
      "[CV 4/5] END ..............C=5000, gamma=0.01, kernel=linear; total time=   0.3s\n",
      "[CV 5/5] END ..............C=5000, gamma=0.01, kernel=linear; total time=   0.0s\n",
      "[CV 1/5] END ................C=5000, gamma=0.001, kernel=rbf; total time=   0.0s\n",
      "[CV 2/5] END ................C=5000, gamma=0.001, kernel=rbf; total time=   0.0s\n",
      "[CV 3/5] END ................C=5000, gamma=0.001, kernel=rbf; total time=   0.0s\n",
      "[CV 4/5] END ................C=5000, gamma=0.001, kernel=rbf; total time=   0.0s\n",
      "[CV 5/5] END ................C=5000, gamma=0.001, kernel=rbf; total time=   0.0s\n",
      "[CV 1/5] END .............C=5000, gamma=0.001, kernel=linear; total time=   0.3s\n",
      "[CV 2/5] END .............C=5000, gamma=0.001, kernel=linear; total time=   0.2s\n",
      "[CV 3/5] END .............C=5000, gamma=0.001, kernel=linear; total time=   0.4s\n",
      "[CV 4/5] END .............C=5000, gamma=0.001, kernel=linear; total time=   0.3s\n",
      "[CV 5/5] END .............C=5000, gamma=0.001, kernel=linear; total time=   0.0s\n",
      "[CV 1/5] END ...............C=5000, gamma=0.0001, kernel=rbf; total time=   0.0s\n",
      "[CV 2/5] END ...............C=5000, gamma=0.0001, kernel=rbf; total time=   0.0s\n",
      "[CV 3/5] END ...............C=5000, gamma=0.0001, kernel=rbf; total time=   0.0s\n",
      "[CV 4/5] END ...............C=5000, gamma=0.0001, kernel=rbf; total time=   0.0s\n",
      "[CV 5/5] END ...............C=5000, gamma=0.0001, kernel=rbf; total time=   0.0s\n",
      "[CV 1/5] END ............C=5000, gamma=0.0001, kernel=linear; total time=   0.3s\n",
      "[CV 2/5] END ............C=5000, gamma=0.0001, kernel=linear; total time=   0.2s\n",
      "[CV 3/5] END ............C=5000, gamma=0.0001, kernel=linear; total time=   0.4s\n",
      "[CV 4/5] END ............C=5000, gamma=0.0001, kernel=linear; total time=   0.3s\n",
      "[CV 5/5] END ............C=5000, gamma=0.0001, kernel=linear; total time=   0.0s\n",
      "[CV 1/5] END ...............C=10000, gamma=scale, kernel=rbf; total time=   0.0s\n",
      "[CV 2/5] END ...............C=10000, gamma=scale, kernel=rbf; total time=   0.0s\n",
      "[CV 3/5] END ...............C=10000, gamma=scale, kernel=rbf; total time=   0.0s\n",
      "[CV 4/5] END ...............C=10000, gamma=scale, kernel=rbf; total time=   0.0s\n",
      "[CV 5/5] END ...............C=10000, gamma=scale, kernel=rbf; total time=   0.0s\n",
      "[CV 1/5] END ............C=10000, gamma=scale, kernel=linear; total time=   0.6s\n",
      "[CV 2/5] END ............C=10000, gamma=scale, kernel=linear; total time=   0.3s\n",
      "[CV 3/5] END ............C=10000, gamma=scale, kernel=linear; total time=   0.6s\n",
      "[CV 4/5] END ............C=10000, gamma=scale, kernel=linear; total time=   1.4s\n",
      "[CV 5/5] END ............C=10000, gamma=scale, kernel=linear; total time=   0.2s\n",
      "[CV 1/5] END ................C=10000, gamma=auto, kernel=rbf; total time=   0.0s\n",
      "[CV 2/5] END ................C=10000, gamma=auto, kernel=rbf; total time=   0.0s\n",
      "[CV 3/5] END ................C=10000, gamma=auto, kernel=rbf; total time=   0.0s\n",
      "[CV 4/5] END ................C=10000, gamma=auto, kernel=rbf; total time=   0.0s\n",
      "[CV 5/5] END ................C=10000, gamma=auto, kernel=rbf; total time=   0.0s\n",
      "[CV 1/5] END .............C=10000, gamma=auto, kernel=linear; total time=   0.7s\n",
      "[CV 2/5] END .............C=10000, gamma=auto, kernel=linear; total time=   0.3s\n",
      "[CV 3/5] END .............C=10000, gamma=auto, kernel=linear; total time=   0.6s\n",
      "[CV 4/5] END .............C=10000, gamma=auto, kernel=linear; total time=   1.4s\n",
      "[CV 5/5] END .............C=10000, gamma=auto, kernel=linear; total time=   0.2s\n",
      "[CV 1/5] END ...................C=10000, gamma=1, kernel=rbf; total time=   0.0s\n",
      "[CV 2/5] END ...................C=10000, gamma=1, kernel=rbf; total time=   0.0s\n",
      "[CV 3/5] END ...................C=10000, gamma=1, kernel=rbf; total time=   0.0s\n",
      "[CV 4/5] END ...................C=10000, gamma=1, kernel=rbf; total time=   0.0s\n",
      "[CV 5/5] END ...................C=10000, gamma=1, kernel=rbf; total time=   0.0s\n",
      "[CV 1/5] END ................C=10000, gamma=1, kernel=linear; total time=   0.8s\n",
      "[CV 2/5] END ................C=10000, gamma=1, kernel=linear; total time=   0.3s\n",
      "[CV 3/5] END ................C=10000, gamma=1, kernel=linear; total time=   0.7s\n",
      "[CV 4/5] END ................C=10000, gamma=1, kernel=linear; total time=   1.5s\n",
      "[CV 5/5] END ................C=10000, gamma=1, kernel=linear; total time=   0.2s\n",
      "[CV 1/5] END .................C=10000, gamma=0.1, kernel=rbf; total time=   0.0s\n",
      "[CV 2/5] END .................C=10000, gamma=0.1, kernel=rbf; total time=   0.0s\n",
      "[CV 3/5] END .................C=10000, gamma=0.1, kernel=rbf; total time=   0.0s\n",
      "[CV 4/5] END .................C=10000, gamma=0.1, kernel=rbf; total time=   0.0s\n",
      "[CV 5/5] END .................C=10000, gamma=0.1, kernel=rbf; total time=   0.0s\n",
      "[CV 1/5] END ..............C=10000, gamma=0.1, kernel=linear; total time=   0.8s\n",
      "[CV 2/5] END ..............C=10000, gamma=0.1, kernel=linear; total time=   0.3s\n",
      "[CV 3/5] END ..............C=10000, gamma=0.1, kernel=linear; total time=   0.7s\n",
      "[CV 4/5] END ..............C=10000, gamma=0.1, kernel=linear; total time=   1.5s\n",
      "[CV 5/5] END ..............C=10000, gamma=0.1, kernel=linear; total time=   0.2s\n",
      "[CV 1/5] END ................C=10000, gamma=0.01, kernel=rbf; total time=   0.0s\n",
      "[CV 2/5] END ................C=10000, gamma=0.01, kernel=rbf; total time=   0.0s\n",
      "[CV 3/5] END ................C=10000, gamma=0.01, kernel=rbf; total time=   0.0s\n",
      "[CV 4/5] END ................C=10000, gamma=0.01, kernel=rbf; total time=   0.0s\n",
      "[CV 5/5] END ................C=10000, gamma=0.01, kernel=rbf; total time=   0.0s\n",
      "[CV 1/5] END .............C=10000, gamma=0.01, kernel=linear; total time=   0.7s\n",
      "[CV 2/5] END .............C=10000, gamma=0.01, kernel=linear; total time=   0.3s\n"
     ]
    },
    {
     "name": "stdout",
     "output_type": "stream",
     "text": [
      "[CV 3/5] END .............C=10000, gamma=0.01, kernel=linear; total time=   0.6s\n",
      "[CV 4/5] END .............C=10000, gamma=0.01, kernel=linear; total time=   1.5s\n",
      "[CV 5/5] END .............C=10000, gamma=0.01, kernel=linear; total time=   0.2s\n",
      "[CV 1/5] END ...............C=10000, gamma=0.001, kernel=rbf; total time=   0.0s\n",
      "[CV 2/5] END ...............C=10000, gamma=0.001, kernel=rbf; total time=   0.0s\n",
      "[CV 3/5] END ...............C=10000, gamma=0.001, kernel=rbf; total time=   0.0s\n",
      "[CV 4/5] END ...............C=10000, gamma=0.001, kernel=rbf; total time=   0.0s\n",
      "[CV 5/5] END ...............C=10000, gamma=0.001, kernel=rbf; total time=   0.0s\n",
      "[CV 1/5] END ............C=10000, gamma=0.001, kernel=linear; total time=   0.7s\n",
      "[CV 2/5] END ............C=10000, gamma=0.001, kernel=linear; total time=   0.3s\n",
      "[CV 3/5] END ............C=10000, gamma=0.001, kernel=linear; total time=   0.7s\n",
      "[CV 4/5] END ............C=10000, gamma=0.001, kernel=linear; total time=   1.6s\n",
      "[CV 5/5] END ............C=10000, gamma=0.001, kernel=linear; total time=   0.2s\n",
      "[CV 1/5] END ..............C=10000, gamma=0.0001, kernel=rbf; total time=   0.0s\n",
      "[CV 2/5] END ..............C=10000, gamma=0.0001, kernel=rbf; total time=   0.0s\n",
      "[CV 3/5] END ..............C=10000, gamma=0.0001, kernel=rbf; total time=   0.0s\n",
      "[CV 4/5] END ..............C=10000, gamma=0.0001, kernel=rbf; total time=   0.0s\n",
      "[CV 5/5] END ..............C=10000, gamma=0.0001, kernel=rbf; total time=   0.0s\n",
      "[CV 1/5] END ...........C=10000, gamma=0.0001, kernel=linear; total time=   0.7s\n",
      "[CV 2/5] END ...........C=10000, gamma=0.0001, kernel=linear; total time=   0.3s\n",
      "[CV 3/5] END ...........C=10000, gamma=0.0001, kernel=linear; total time=   0.6s\n",
      "[CV 4/5] END ...........C=10000, gamma=0.0001, kernel=linear; total time=   1.4s\n",
      "[CV 5/5] END ...........C=10000, gamma=0.0001, kernel=linear; total time=   0.2s\n"
     ]
    },
    {
     "data": {
      "text/plain": [
       "GridSearchCV(estimator=SVC(random_state=42),\n",
       "             param_grid={'C': [0.1, 1, 10, 100, 1000, 5000, 10000],\n",
       "                         'gamma': ['scale', 'auto', 1, 0.1, 0.01, 0.001,\n",
       "                                   0.0001],\n",
       "                         'kernel': ['rbf', 'linear']},\n",
       "             verbose=3)"
      ]
     },
     "execution_count": 120,
     "metadata": {},
     "output_type": "execute_result"
    }
   ],
   "source": [
    "svm_model_grid.fit(X_train_scaled, y_train)"
   ]
  },
  {
   "cell_type": "code",
   "execution_count": 121,
   "id": "91f8f08a",
   "metadata": {},
   "outputs": [
    {
     "data": {
      "text/plain": [
       "{'C': 100, 'gamma': 'scale', 'kernel': 'linear'}"
      ]
     },
     "execution_count": 121,
     "metadata": {},
     "output_type": "execute_result"
    }
   ],
   "source": [
    "svm_model_grid.best_params_"
   ]
  },
  {
   "cell_type": "code",
   "execution_count": 122,
   "id": "0568ca2c",
   "metadata": {},
   "outputs": [
    {
     "data": {
      "text/plain": [
       "SVC(C=100, kernel='linear', random_state=42)"
      ]
     },
     "execution_count": 122,
     "metadata": {},
     "output_type": "execute_result"
    }
   ],
   "source": [
    "svm_model_grid.best_estimator_"
   ]
  },
  {
   "cell_type": "code",
   "execution_count": 123,
   "id": "b85b77a6",
   "metadata": {},
   "outputs": [
    {
     "name": "stdout",
     "output_type": "stream",
     "text": [
      "[[29  6]\n",
      " [ 7 34]]\n",
      "              precision    recall  f1-score   support\n",
      "\n",
      "           0       0.81      0.83      0.82        35\n",
      "           1       0.85      0.83      0.84        41\n",
      "\n",
      "    accuracy                           0.83        76\n",
      "   macro avg       0.83      0.83      0.83        76\n",
      "weighted avg       0.83      0.83      0.83        76\n",
      "\n"
     ]
    }
   ],
   "source": [
    "y_pred = svm_model_grid.predict(X_test_scaled)\n",
    "print(confusion_matrix(y_test, y_pred))\n",
    "print(classification_report(y_test, y_pred))"
   ]
  },
  {
   "cell_type": "markdown",
   "id": "8Hfumh_PyEoh",
   "metadata": {
    "id": "8Hfumh_PyEoh"
   },
   "source": [
    "# Visually compare models based on your chosen metric"
   ]
  },
  {
   "cell_type": "code",
   "execution_count": 124,
   "id": "f259f050",
   "metadata": {},
   "outputs": [],
   "source": [
    "log_model = LogisticRegression(class_weight=\"balance\")\n",
    "knn_model = KNeighborsClassifier(n_neighbors=11, p=1, weights=\"uniform\")\n",
    "svc_model = SVC(random_state=42, probability=True, C=100, kernel=\"linear\", gamma=\"scale\")\n",
    "\n",
    "models=[knn_model,log_model,svc_model]\n",
    "names=['LogisticRegression','KNeighboursClassifiers','SVC']"
   ]
  },
  {
   "cell_type": "code",
   "execution_count": 155,
   "id": "531ac7e7",
   "metadata": {},
   "outputs": [],
   "source": [
    "def model_test(X,y,models=models, names=names):\n",
    "    for i in range(len(models)):\n",
    "        models[i]=models[i].fit(X,y)\n",
    "    accuracy=[]\n",
    "    precision=[]\n",
    "    recall=[]\n",
    "    f1=[]\n",
    "    for i in range(len(models)):\n",
    "        accuracy.append(accuracy_score(y,models[i].predict(X)))\n",
    "        \n",
    "        precision.append(precision_score(y, models[i].predict(X)))\n",
    "        \n",
    "        recall.append(recall_score(y, models[i].predict(X)))\n",
    "        \n",
    "        f1.append(f1_score(y, models[i].predict(X)))\n",
    "        \n",
    "    metrics=pd.DataFrame(columns=['Accuracy','Precision','Recall','F1'],index=names)\n",
    "    metrics['Accuracy']= accuracy\n",
    "    metrics['Precision']= precision\n",
    "    metrics['Recall']= recall\n",
    "    metrics['F1']= f1\n",
    "    return metrics.sort_values('Recall',ascending=False) "
   ]
  },
  {
   "cell_type": "code",
   "execution_count": 156,
   "id": "cf23dbef",
   "metadata": {},
   "outputs": [
    {
     "data": {
      "text/html": [
       "<div>\n",
       "<style scoped>\n",
       "    .dataframe tbody tr th:only-of-type {\n",
       "        vertical-align: middle;\n",
       "    }\n",
       "\n",
       "    .dataframe tbody tr th {\n",
       "        vertical-align: top;\n",
       "    }\n",
       "\n",
       "    .dataframe thead th {\n",
       "        text-align: right;\n",
       "    }\n",
       "</style>\n",
       "<table border=\"1\" class=\"dataframe\">\n",
       "  <thead>\n",
       "    <tr style=\"text-align: right;\">\n",
       "      <th></th>\n",
       "      <th>Accuracy</th>\n",
       "      <th>Precision</th>\n",
       "      <th>Recall</th>\n",
       "      <th>F1</th>\n",
       "    </tr>\n",
       "  </thead>\n",
       "  <tbody>\n",
       "    <tr>\n",
       "      <th>SVC</th>\n",
       "      <td>0.867</td>\n",
       "      <td>0.860</td>\n",
       "      <td>0.902</td>\n",
       "      <td>0.881</td>\n",
       "    </tr>\n",
       "    <tr>\n",
       "      <th>KNeighboursClassifiers</th>\n",
       "      <td>0.845</td>\n",
       "      <td>0.833</td>\n",
       "      <td>0.894</td>\n",
       "      <td>0.863</td>\n",
       "    </tr>\n",
       "    <tr>\n",
       "      <th>LogisticRegression</th>\n",
       "      <td>0.845</td>\n",
       "      <td>0.838</td>\n",
       "      <td>0.886</td>\n",
       "      <td>0.862</td>\n",
       "    </tr>\n",
       "  </tbody>\n",
       "</table>\n",
       "</div>"
      ],
      "text/plain": [
       "                        Accuracy  Precision  Recall    F1\n",
       "SVC                        0.867      0.860   0.902 0.881\n",
       "KNeighboursClassifiers     0.845      0.833   0.894 0.863\n",
       "LogisticRegression         0.845      0.838   0.886 0.862"
      ]
     },
     "execution_count": 156,
     "metadata": {},
     "output_type": "execute_result"
    }
   ],
   "source": [
    "model_test(X_train_scaled,y_train)"
   ]
  },
  {
   "cell_type": "code",
   "execution_count": 157,
   "id": "7077ff64",
   "metadata": {},
   "outputs": [
    {
     "data": {
      "text/html": [
       "<div>\n",
       "<style scoped>\n",
       "    .dataframe tbody tr th:only-of-type {\n",
       "        vertical-align: middle;\n",
       "    }\n",
       "\n",
       "    .dataframe tbody tr th {\n",
       "        vertical-align: top;\n",
       "    }\n",
       "\n",
       "    .dataframe thead th {\n",
       "        text-align: right;\n",
       "    }\n",
       "</style>\n",
       "<table border=\"1\" class=\"dataframe\">\n",
       "  <thead>\n",
       "    <tr style=\"text-align: right;\">\n",
       "      <th></th>\n",
       "      <th>Accuracy</th>\n",
       "      <th>Precision</th>\n",
       "      <th>Recall</th>\n",
       "      <th>F1</th>\n",
       "    </tr>\n",
       "  </thead>\n",
       "  <tbody>\n",
       "    <tr>\n",
       "      <th>LogisticRegression</th>\n",
       "      <td>0.868</td>\n",
       "      <td>0.830</td>\n",
       "      <td>0.951</td>\n",
       "      <td>0.886</td>\n",
       "    </tr>\n",
       "    <tr>\n",
       "      <th>KNeighboursClassifiers</th>\n",
       "      <td>0.895</td>\n",
       "      <td>0.867</td>\n",
       "      <td>0.951</td>\n",
       "      <td>0.907</td>\n",
       "    </tr>\n",
       "    <tr>\n",
       "      <th>SVC</th>\n",
       "      <td>0.895</td>\n",
       "      <td>0.884</td>\n",
       "      <td>0.927</td>\n",
       "      <td>0.905</td>\n",
       "    </tr>\n",
       "  </tbody>\n",
       "</table>\n",
       "</div>"
      ],
      "text/plain": [
       "                        Accuracy  Precision  Recall    F1\n",
       "LogisticRegression         0.868      0.830   0.951 0.886\n",
       "KNeighboursClassifiers     0.895      0.867   0.951 0.907\n",
       "SVC                        0.895      0.884   0.927 0.905"
      ]
     },
     "execution_count": 157,
     "metadata": {},
     "output_type": "execute_result"
    }
   ],
   "source": [
    " model_test(X_test_scaled,y_test)"
   ]
  },
  {
   "cell_type": "markdown",
   "id": "3oDKxZRqx0Nw",
   "metadata": {
    "id": "3oDKxZRqx0Nw"
   },
   "source": [
    "# Chose best model and make a random prediction "
   ]
  },
  {
   "cell_type": "code",
   "execution_count": 144,
   "id": "9c70c694",
   "metadata": {},
   "outputs": [],
   "source": [
    "scaler = MinMaxScaler()\n",
    "X_scaled = scaler.fit_transform(X)"
   ]
  },
  {
   "cell_type": "code",
   "execution_count": 145,
   "id": "af9c183c",
   "metadata": {},
   "outputs": [],
   "source": [
    "final_model = KNeighborsClassifier(n_neighbors=11).fit(X_scaled, y)"
   ]
  },
  {
   "cell_type": "code",
   "execution_count": 146,
   "id": "06c82365",
   "metadata": {},
   "outputs": [],
   "source": [
    "import pickle\n",
    "pickle.dump(scaler, open(\"scaler_model\", 'wb'))\n",
    "pickle.dump(final_model, open(\"final_model\", 'wb'))"
   ]
  },
  {
   "cell_type": "code",
   "execution_count": 147,
   "id": "ec6fc2de",
   "metadata": {},
   "outputs": [],
   "source": [
    "my_dict = {\"age\": [18,43,67,24,79],\n",
    "           \"sex\":[0,0,1,1,0],\n",
    "           \"cp\":[0,1,1,3,2],\n",
    "           \"trestbps\": [90,110,130,80,120],\n",
    "           \"chol\": [202,244,269,212,224],\n",
    "           \"fbs\": [1,1,0,1,0],\n",
    "           \"restecg\": [0,1,1,0,0],\n",
    "           \"thalach\": [154,167,142,179,191],\n",
    "           \"exang\": [0,1,0,1,1],\n",
    "           \"oldpeak\": [0.90,1.40,2.20,1.70,1.10],\n",
    "           \"slope\": [1,0,0,2,1],\n",
    "           \"ca\": [1,0,3,4,2],\n",
    "           \"thal\": [0,3,1,2,1]\n",
    "          }"
   ]
  },
  {
   "cell_type": "code",
   "execution_count": 148,
   "id": "67c570e2",
   "metadata": {},
   "outputs": [
    {
     "data": {
      "text/html": [
       "<div>\n",
       "<style scoped>\n",
       "    .dataframe tbody tr th:only-of-type {\n",
       "        vertical-align: middle;\n",
       "    }\n",
       "\n",
       "    .dataframe tbody tr th {\n",
       "        vertical-align: top;\n",
       "    }\n",
       "\n",
       "    .dataframe thead th {\n",
       "        text-align: right;\n",
       "    }\n",
       "</style>\n",
       "<table border=\"1\" class=\"dataframe\">\n",
       "  <thead>\n",
       "    <tr style=\"text-align: right;\">\n",
       "      <th></th>\n",
       "      <th>age</th>\n",
       "      <th>sex</th>\n",
       "      <th>cp</th>\n",
       "      <th>trestbps</th>\n",
       "      <th>chol</th>\n",
       "      <th>fbs</th>\n",
       "      <th>restecg</th>\n",
       "      <th>thalach</th>\n",
       "      <th>exang</th>\n",
       "      <th>oldpeak</th>\n",
       "      <th>slope</th>\n",
       "      <th>ca</th>\n",
       "      <th>thal</th>\n",
       "    </tr>\n",
       "  </thead>\n",
       "  <tbody>\n",
       "    <tr>\n",
       "      <th>0</th>\n",
       "      <td>18</td>\n",
       "      <td>0</td>\n",
       "      <td>0</td>\n",
       "      <td>90</td>\n",
       "      <td>202</td>\n",
       "      <td>1</td>\n",
       "      <td>0</td>\n",
       "      <td>154</td>\n",
       "      <td>0</td>\n",
       "      <td>0.900</td>\n",
       "      <td>1</td>\n",
       "      <td>1</td>\n",
       "      <td>0</td>\n",
       "    </tr>\n",
       "    <tr>\n",
       "      <th>1</th>\n",
       "      <td>43</td>\n",
       "      <td>0</td>\n",
       "      <td>1</td>\n",
       "      <td>110</td>\n",
       "      <td>244</td>\n",
       "      <td>1</td>\n",
       "      <td>1</td>\n",
       "      <td>167</td>\n",
       "      <td>1</td>\n",
       "      <td>1.400</td>\n",
       "      <td>0</td>\n",
       "      <td>0</td>\n",
       "      <td>3</td>\n",
       "    </tr>\n",
       "    <tr>\n",
       "      <th>2</th>\n",
       "      <td>67</td>\n",
       "      <td>1</td>\n",
       "      <td>1</td>\n",
       "      <td>130</td>\n",
       "      <td>269</td>\n",
       "      <td>0</td>\n",
       "      <td>1</td>\n",
       "      <td>142</td>\n",
       "      <td>0</td>\n",
       "      <td>2.200</td>\n",
       "      <td>0</td>\n",
       "      <td>3</td>\n",
       "      <td>1</td>\n",
       "    </tr>\n",
       "    <tr>\n",
       "      <th>3</th>\n",
       "      <td>24</td>\n",
       "      <td>1</td>\n",
       "      <td>3</td>\n",
       "      <td>80</td>\n",
       "      <td>212</td>\n",
       "      <td>1</td>\n",
       "      <td>0</td>\n",
       "      <td>179</td>\n",
       "      <td>1</td>\n",
       "      <td>1.700</td>\n",
       "      <td>2</td>\n",
       "      <td>4</td>\n",
       "      <td>2</td>\n",
       "    </tr>\n",
       "    <tr>\n",
       "      <th>4</th>\n",
       "      <td>79</td>\n",
       "      <td>0</td>\n",
       "      <td>2</td>\n",
       "      <td>120</td>\n",
       "      <td>224</td>\n",
       "      <td>0</td>\n",
       "      <td>0</td>\n",
       "      <td>191</td>\n",
       "      <td>1</td>\n",
       "      <td>1.100</td>\n",
       "      <td>1</td>\n",
       "      <td>2</td>\n",
       "      <td>1</td>\n",
       "    </tr>\n",
       "  </tbody>\n",
       "</table>\n",
       "</div>"
      ],
      "text/plain": [
       "   age  sex  cp  trestbps  chol  fbs  restecg  thalach  exang  oldpeak  slope  \\\n",
       "0   18    0   0        90   202    1        0      154      0    0.900      1   \n",
       "1   43    0   1       110   244    1        1      167      1    1.400      0   \n",
       "2   67    1   1       130   269    0        1      142      0    2.200      0   \n",
       "3   24    1   3        80   212    1        0      179      1    1.700      2   \n",
       "4   79    0   2       120   224    0        0      191      1    1.100      1   \n",
       "\n",
       "   ca  thal  \n",
       "0   1     0  \n",
       "1   0     3  \n",
       "2   3     1  \n",
       "3   4     2  \n",
       "4   2     1  "
      ]
     },
     "execution_count": 148,
     "metadata": {},
     "output_type": "execute_result"
    }
   ],
   "source": [
    "sample = pd.DataFrame(my_dict)\n",
    "sample"
   ]
  },
  {
   "cell_type": "code",
   "execution_count": 149,
   "id": "76d505b1",
   "metadata": {},
   "outputs": [],
   "source": [
    "scaler= pickle.load(open(\"scaler_model\", \"rb\"))"
   ]
  },
  {
   "cell_type": "code",
   "execution_count": 150,
   "id": "781d1aa5",
   "metadata": {},
   "outputs": [],
   "source": [
    "sample_scaled = scaler.transform(sample)"
   ]
  },
  {
   "cell_type": "code",
   "execution_count": 151,
   "id": "95f71763",
   "metadata": {},
   "outputs": [],
   "source": [
    "final_model = pickle.load(open(\"final_model\", \"rb\"))"
   ]
  },
  {
   "cell_type": "code",
   "execution_count": 152,
   "id": "c2b2ab0a",
   "metadata": {},
   "outputs": [],
   "source": [
    "predictions = final_model.predict(sample_scaled)\n",
    "predictions_proba = final_model.predict_proba(sample_scaled)"
   ]
  },
  {
   "cell_type": "code",
   "execution_count": 154,
   "id": "c4694d1c",
   "metadata": {},
   "outputs": [
    {
     "data": {
      "text/html": [
       "<div>\n",
       "<style scoped>\n",
       "    .dataframe tbody tr th:only-of-type {\n",
       "        vertical-align: middle;\n",
       "    }\n",
       "\n",
       "    .dataframe tbody tr th {\n",
       "        vertical-align: top;\n",
       "    }\n",
       "\n",
       "    .dataframe thead th {\n",
       "        text-align: right;\n",
       "    }\n",
       "</style>\n",
       "<table border=\"1\" class=\"dataframe\">\n",
       "  <thead>\n",
       "    <tr style=\"text-align: right;\">\n",
       "      <th></th>\n",
       "      <th>age</th>\n",
       "      <th>sex</th>\n",
       "      <th>cp</th>\n",
       "      <th>trestbps</th>\n",
       "      <th>chol</th>\n",
       "      <th>fbs</th>\n",
       "      <th>restecg</th>\n",
       "      <th>thalach</th>\n",
       "      <th>exang</th>\n",
       "      <th>oldpeak</th>\n",
       "      <th>slope</th>\n",
       "      <th>ca</th>\n",
       "      <th>thal</th>\n",
       "      <th>pred_proba</th>\n",
       "      <th>pred</th>\n",
       "    </tr>\n",
       "  </thead>\n",
       "  <tbody>\n",
       "    <tr>\n",
       "      <th>0</th>\n",
       "      <td>18</td>\n",
       "      <td>0</td>\n",
       "      <td>0</td>\n",
       "      <td>90</td>\n",
       "      <td>202</td>\n",
       "      <td>1</td>\n",
       "      <td>0</td>\n",
       "      <td>154</td>\n",
       "      <td>0</td>\n",
       "      <td>0.900</td>\n",
       "      <td>1</td>\n",
       "      <td>1</td>\n",
       "      <td>0</td>\n",
       "      <td>0.818</td>\n",
       "      <td>1</td>\n",
       "    </tr>\n",
       "    <tr>\n",
       "      <th>1</th>\n",
       "      <td>43</td>\n",
       "      <td>0</td>\n",
       "      <td>1</td>\n",
       "      <td>110</td>\n",
       "      <td>244</td>\n",
       "      <td>1</td>\n",
       "      <td>1</td>\n",
       "      <td>167</td>\n",
       "      <td>1</td>\n",
       "      <td>1.400</td>\n",
       "      <td>0</td>\n",
       "      <td>0</td>\n",
       "      <td>3</td>\n",
       "      <td>0.182</td>\n",
       "      <td>0</td>\n",
       "    </tr>\n",
       "    <tr>\n",
       "      <th>2</th>\n",
       "      <td>67</td>\n",
       "      <td>1</td>\n",
       "      <td>1</td>\n",
       "      <td>130</td>\n",
       "      <td>269</td>\n",
       "      <td>0</td>\n",
       "      <td>1</td>\n",
       "      <td>142</td>\n",
       "      <td>0</td>\n",
       "      <td>2.200</td>\n",
       "      <td>0</td>\n",
       "      <td>3</td>\n",
       "      <td>1</td>\n",
       "      <td>0.455</td>\n",
       "      <td>0</td>\n",
       "    </tr>\n",
       "    <tr>\n",
       "      <th>3</th>\n",
       "      <td>24</td>\n",
       "      <td>1</td>\n",
       "      <td>3</td>\n",
       "      <td>80</td>\n",
       "      <td>212</td>\n",
       "      <td>1</td>\n",
       "      <td>0</td>\n",
       "      <td>179</td>\n",
       "      <td>1</td>\n",
       "      <td>1.700</td>\n",
       "      <td>2</td>\n",
       "      <td>4</td>\n",
       "      <td>2</td>\n",
       "      <td>0.455</td>\n",
       "      <td>0</td>\n",
       "    </tr>\n",
       "    <tr>\n",
       "      <th>4</th>\n",
       "      <td>79</td>\n",
       "      <td>0</td>\n",
       "      <td>2</td>\n",
       "      <td>120</td>\n",
       "      <td>224</td>\n",
       "      <td>0</td>\n",
       "      <td>0</td>\n",
       "      <td>191</td>\n",
       "      <td>1</td>\n",
       "      <td>1.100</td>\n",
       "      <td>1</td>\n",
       "      <td>2</td>\n",
       "      <td>1</td>\n",
       "      <td>0.545</td>\n",
       "      <td>1</td>\n",
       "    </tr>\n",
       "  </tbody>\n",
       "</table>\n",
       "</div>"
      ],
      "text/plain": [
       "   age  sex  cp  trestbps  chol  fbs  restecg  thalach  exang  oldpeak  slope  \\\n",
       "0   18    0   0        90   202    1        0      154      0    0.900      1   \n",
       "1   43    0   1       110   244    1        1      167      1    1.400      0   \n",
       "2   67    1   1       130   269    0        1      142      0    2.200      0   \n",
       "3   24    1   3        80   212    1        0      179      1    1.700      2   \n",
       "4   79    0   2       120   224    0        0      191      1    1.100      1   \n",
       "\n",
       "   ca  thal  pred_proba  pred  \n",
       "0   1     0       0.818     1  \n",
       "1   0     3       0.182     0  \n",
       "2   3     1       0.455     0  \n",
       "3   4     2       0.455     0  \n",
       "4   2     1       0.545     1  "
      ]
     },
     "execution_count": 154,
     "metadata": {},
     "output_type": "execute_result"
    }
   ],
   "source": [
    "sample[\"pred_proba\"] = predictions_proba[:,1]\n",
    "sample[\"pred\"] = predictions\n",
    "sample"
   ]
  },
  {
   "cell_type": "code",
   "execution_count": null,
   "id": "7c839c25",
   "metadata": {},
   "outputs": [],
   "source": []
  }
 ],
 "metadata": {
  "colab": {
   "collapsed_sections": [],
   "name": "Heart_Stroke_Prediction_lab.ipynb",
   "provenance": []
  },
  "kernelspec": {
   "display_name": "Python 3",
   "language": "python",
   "name": "python3"
  },
  "language_info": {
   "codemirror_mode": {
    "name": "ipython",
    "version": 3
   },
   "file_extension": ".py",
   "mimetype": "text/x-python",
   "name": "python",
   "nbconvert_exporter": "python",
   "pygments_lexer": "ipython3",
   "version": "3.8.8"
  }
 },
 "nbformat": 4,
 "nbformat_minor": 5
}
